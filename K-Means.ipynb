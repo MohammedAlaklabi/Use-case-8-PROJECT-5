{
 "cells": [
  {
   "cell_type": "markdown",
   "metadata": {},
   "source": [
    "## Import Libraries"
   ]
  },
  {
   "cell_type": "code",
   "execution_count": 1,
   "metadata": {},
   "outputs": [],
   "source": [
    "# To ignore warnings\n",
    "import warnings\n",
    "warnings.filterwarnings(\"ignore\")\n",
    "import pandas as pd\n",
    "import numpy as np\n",
    "import matplotlib.pyplot as plt\n",
    "import plotly.express as px\n",
    "import plotly.graph_objects as go\n",
    "import seaborn as sns\n",
    "import math\n",
    "from sklearn.model_selection import train_test_split, cross_val_score\n",
    "from sklearn.preprocessing import StandardScaler\n",
    "from sklearn.cluster import KMeans\n",
    "from sklearn.preprocessing import LabelEncoder\n",
    "from sklearn.cluster import DBSCAN\n",
    "from sklearn import metrics\n",
    "from sklearn.metrics import silhouette_score\n",
    "\n",
    "%matplotlib inline"
   ]
  },
  {
   "cell_type": "markdown",
   "metadata": {},
   "source": [
    "## Load the Data"
   ]
  },
  {
   "cell_type": "code",
   "execution_count": 2,
   "metadata": {},
   "outputs": [],
   "source": [
    "df = pd.read_csv('ML_Data.csv')"
   ]
  },
  {
   "cell_type": "code",
   "execution_count": 3,
   "metadata": {},
   "outputs": [],
   "source": [
    "#dtale.show(df, open_browser=True)"
   ]
  },
  {
   "cell_type": "code",
   "execution_count": 4,
   "metadata": {},
   "outputs": [
    {
     "data": {
      "text/plain": [
       "(1616, 14)"
      ]
     },
     "execution_count": 4,
     "metadata": {},
     "output_type": "execute_result"
    }
   ],
   "source": [
    "df.shape"
   ]
  },
  {
   "cell_type": "code",
   "execution_count": 5,
   "metadata": {
    "scrolled": true
   },
   "outputs": [
    {
     "data": {
      "text/html": [
       "<div>\n",
       "<style scoped>\n",
       "    .dataframe tbody tr th:only-of-type {\n",
       "        vertical-align: middle;\n",
       "    }\n",
       "\n",
       "    .dataframe tbody tr th {\n",
       "        vertical-align: top;\n",
       "    }\n",
       "\n",
       "    .dataframe thead th {\n",
       "        text-align: right;\n",
       "    }\n",
       "</style>\n",
       "<table border=\"1\" class=\"dataframe\">\n",
       "  <thead>\n",
       "    <tr style=\"text-align: right;\">\n",
       "      <th></th>\n",
       "      <th>Unnamed: 0</th>\n",
       "      <th>Name</th>\n",
       "      <th>Rating</th>\n",
       "      <th>Number of Ratings</th>\n",
       "      <th>Longitude</th>\n",
       "      <th>Latitude</th>\n",
       "      <th>neighborhood</th>\n",
       "      <th>restaurant</th>\n",
       "      <th>meal_takeaway</th>\n",
       "      <th>meal_delivery</th>\n",
       "      <th>cafe</th>\n",
       "      <th>food</th>\n",
       "      <th>bakery</th>\n",
       "      <th>Weighted Rating</th>\n",
       "    </tr>\n",
       "  </thead>\n",
       "  <tbody>\n",
       "    <tr>\n",
       "      <th>0</th>\n",
       "      <td>0</td>\n",
       "      <td>فندق ميرا</td>\n",
       "      <td>3.7</td>\n",
       "      <td>1336.0</td>\n",
       "      <td>46.693985</td>\n",
       "      <td>24.701278</td>\n",
       "      <td>حي الملز</td>\n",
       "      <td>1</td>\n",
       "      <td>0</td>\n",
       "      <td>0</td>\n",
       "      <td>0</td>\n",
       "      <td>1</td>\n",
       "      <td>0</td>\n",
       "      <td>4943.2</td>\n",
       "    </tr>\n",
       "    <tr>\n",
       "      <th>1</th>\n",
       "      <td>1</td>\n",
       "      <td>مركز ماي كار لصيانة السيارات الاوروبية</td>\n",
       "      <td>3.5</td>\n",
       "      <td>2755.0</td>\n",
       "      <td>46.576437</td>\n",
       "      <td>24.851751</td>\n",
       "      <td>حي الملز</td>\n",
       "      <td>1</td>\n",
       "      <td>0</td>\n",
       "      <td>0</td>\n",
       "      <td>0</td>\n",
       "      <td>1</td>\n",
       "      <td>0</td>\n",
       "      <td>9642.5</td>\n",
       "    </tr>\n",
       "  </tbody>\n",
       "</table>\n",
       "</div>"
      ],
      "text/plain": [
       "   Unnamed: 0                                    Name  Rating  \\\n",
       "0           0                               فندق ميرا     3.7   \n",
       "1           1  مركز ماي كار لصيانة السيارات الاوروبية     3.5   \n",
       "\n",
       "   Number of Ratings  Longitude   Latitude neighborhood  restaurant  \\\n",
       "0             1336.0  46.693985  24.701278     حي الملز           1   \n",
       "1             2755.0  46.576437  24.851751     حي الملز           1   \n",
       "\n",
       "   meal_takeaway  meal_delivery  cafe  food  bakery  Weighted Rating  \n",
       "0              0              0     0     1       0           4943.2  \n",
       "1              0              0     0     1       0           9642.5  "
      ]
     },
     "execution_count": 5,
     "metadata": {},
     "output_type": "execute_result"
    }
   ],
   "source": [
    "df.head(2)"
   ]
  },
  {
   "cell_type": "markdown",
   "metadata": {},
   "source": [
    "## Preprocess the Data"
   ]
  },
  {
   "cell_type": "markdown",
   "metadata": {},
   "source": [
    "#### 1. Simple EDA + Data Quality checking"
   ]
  },
  {
   "cell_type": "code",
   "execution_count": 6,
   "metadata": {},
   "outputs": [],
   "source": [
    "df = df.drop('Unnamed: 0', axis=1)"
   ]
  },
  {
   "cell_type": "code",
   "execution_count": 7,
   "metadata": {},
   "outputs": [
    {
     "data": {
      "text/html": [
       "<div>\n",
       "<style scoped>\n",
       "    .dataframe tbody tr th:only-of-type {\n",
       "        vertical-align: middle;\n",
       "    }\n",
       "\n",
       "    .dataframe tbody tr th {\n",
       "        vertical-align: top;\n",
       "    }\n",
       "\n",
       "    .dataframe thead th {\n",
       "        text-align: right;\n",
       "    }\n",
       "</style>\n",
       "<table border=\"1\" class=\"dataframe\">\n",
       "  <thead>\n",
       "    <tr style=\"text-align: right;\">\n",
       "      <th></th>\n",
       "      <th>Name</th>\n",
       "      <th>Rating</th>\n",
       "      <th>Number of Ratings</th>\n",
       "      <th>Longitude</th>\n",
       "      <th>Latitude</th>\n",
       "      <th>neighborhood</th>\n",
       "      <th>restaurant</th>\n",
       "      <th>meal_takeaway</th>\n",
       "      <th>meal_delivery</th>\n",
       "      <th>cafe</th>\n",
       "      <th>food</th>\n",
       "      <th>bakery</th>\n",
       "      <th>Weighted Rating</th>\n",
       "    </tr>\n",
       "  </thead>\n",
       "  <tbody>\n",
       "    <tr>\n",
       "      <th>0</th>\n",
       "      <td>فندق ميرا</td>\n",
       "      <td>3.7</td>\n",
       "      <td>1336.0</td>\n",
       "      <td>46.693985</td>\n",
       "      <td>24.701278</td>\n",
       "      <td>حي الملز</td>\n",
       "      <td>1</td>\n",
       "      <td>0</td>\n",
       "      <td>0</td>\n",
       "      <td>0</td>\n",
       "      <td>1</td>\n",
       "      <td>0</td>\n",
       "      <td>4943.2</td>\n",
       "    </tr>\n",
       "    <tr>\n",
       "      <th>1</th>\n",
       "      <td>مركز ماي كار لصيانة السيارات الاوروبية</td>\n",
       "      <td>3.5</td>\n",
       "      <td>2755.0</td>\n",
       "      <td>46.576437</td>\n",
       "      <td>24.851751</td>\n",
       "      <td>حي الملز</td>\n",
       "      <td>1</td>\n",
       "      <td>0</td>\n",
       "      <td>0</td>\n",
       "      <td>0</td>\n",
       "      <td>1</td>\n",
       "      <td>0</td>\n",
       "      <td>9642.5</td>\n",
       "    </tr>\n",
       "    <tr>\n",
       "      <th>2</th>\n",
       "      <td>Luthan Hotel and Spa</td>\n",
       "      <td>4.0</td>\n",
       "      <td>423.0</td>\n",
       "      <td>46.641709</td>\n",
       "      <td>24.706649</td>\n",
       "      <td>حي الملز</td>\n",
       "      <td>1</td>\n",
       "      <td>0</td>\n",
       "      <td>0</td>\n",
       "      <td>0</td>\n",
       "      <td>1</td>\n",
       "      <td>0</td>\n",
       "      <td>1692.0</td>\n",
       "    </tr>\n",
       "  </tbody>\n",
       "</table>\n",
       "</div>"
      ],
      "text/plain": [
       "                                     Name  Rating  Number of Ratings  \\\n",
       "0                               فندق ميرا     3.7             1336.0   \n",
       "1  مركز ماي كار لصيانة السيارات الاوروبية     3.5             2755.0   \n",
       "2                    Luthan Hotel and Spa     4.0              423.0   \n",
       "\n",
       "   Longitude   Latitude neighborhood  restaurant  meal_takeaway  \\\n",
       "0  46.693985  24.701278     حي الملز           1              0   \n",
       "1  46.576437  24.851751     حي الملز           1              0   \n",
       "2  46.641709  24.706649     حي الملز           1              0   \n",
       "\n",
       "   meal_delivery  cafe  food  bakery  Weighted Rating  \n",
       "0              0     0     1       0           4943.2  \n",
       "1              0     0     1       0           9642.5  \n",
       "2              0     0     1       0           1692.0  "
      ]
     },
     "execution_count": 7,
     "metadata": {},
     "output_type": "execute_result"
    }
   ],
   "source": [
    "df.head(3)"
   ]
  },
  {
   "cell_type": "code",
   "execution_count": 8,
   "metadata": {},
   "outputs": [
    {
     "data": {
      "text/plain": [
       "Name                  object\n",
       "Rating               float64\n",
       "Number of Ratings    float64\n",
       "Longitude            float64\n",
       "Latitude             float64\n",
       "neighborhood          object\n",
       "restaurant             int64\n",
       "meal_takeaway          int64\n",
       "meal_delivery          int64\n",
       "cafe                   int64\n",
       "food                   int64\n",
       "bakery                 int64\n",
       "Weighted Rating      float64\n",
       "dtype: object"
      ]
     },
     "execution_count": 8,
     "metadata": {},
     "output_type": "execute_result"
    }
   ],
   "source": [
    "df.dtypes"
   ]
  },
  {
   "cell_type": "code",
   "execution_count": 9,
   "metadata": {},
   "outputs": [],
   "source": [
    "# Accurecy - Outlier\n",
    "\n",
    "# Convert categorical variables using OneHotEncoding\n",
    "# position is alrady encoded\n",
    "\n",
    "categorical_features = ['Name','neighborhood']\n",
    "numeric_features = ['Rating', 'Number of Ratings', 'restaurant','meal_takeaway', 'meal_delivery', 'cafe', 'food', 'bakery',\n",
    "       'Weighted Rating']\n",
    "\n",
    "       "
   ]
  },
  {
   "cell_type": "code",
   "execution_count": 10,
   "metadata": {},
   "outputs": [
    {
     "name": "stdout",
     "output_type": "stream",
     "text": [
      "Name\n",
      "KFC                                                      174\n",
      "Herfy                                                    149\n",
      "McDonald's                                                76\n",
      "Little Caesars Pizza! Pizza! !ليتل سيزرز بيتزا! بيتزا     68\n",
      "Al Romansiah                                              63\n",
      "                                                        ... \n",
      "لذة محشي                                                   1\n",
      "مطعم ريف الشاورما                                          1\n",
      "TO BE FIT مطعم صحي                                         1\n",
      "RKN Pizza & Pastries Sakhna                                1\n",
      "مطعم قارب البحار للمأكولات البحرية                         1\n",
      "Name: count, Length: 214, dtype: int64\n",
      "neighborhood\n",
      "حي الندى         82\n",
      "حي الملز         60\n",
      "حي الربوة        60\n",
      "حي الخليج        60\n",
      "حي الأندلس       60\n",
      "حي الحزم         60\n",
      "حي نمار          60\n",
      "حي ديراب         60\n",
      "حي ظهرة نمار     60\n",
      "هجرة وادي لبن    60\n",
      "حي العارض        60\n",
      "حي النرجس        60\n",
      "حي الصحافة       60\n",
      "حي الملقا        60\n",
      "حي حطين          60\n",
      "حي القيروان      60\n",
      "حي الياسمين      60\n",
      "حي الزدهار       60\n",
      "حي المرسلات      60\n",
      "حي العليا        60\n",
      "حي الصفا         60\n",
      "حي جرير          60\n",
      "حي الوزارات      60\n",
      "حي الحمراء       60\n",
      "حي النهضة        54\n",
      "حي السليمانية    52\n",
      "حي القدس         48\n",
      "Name: count, dtype: int64\n"
     ]
    }
   ],
   "source": [
    "\n",
    "for i in categorical_features:\n",
    "    print (df[i].value_counts())"
   ]
  },
  {
   "cell_type": "code",
   "execution_count": 11,
   "metadata": {},
   "outputs": [
    {
     "name": "stdout",
     "output_type": "stream",
     "text": [
      "Rating\n",
      "3.8    320\n",
      "3.7    260\n",
      "3.9    225\n",
      "3.6    126\n",
      "3.5    123\n",
      "4.1    105\n",
      "4.3    102\n",
      "4.0     91\n",
      "4.2     88\n",
      "3.3     51\n",
      "3.0     31\n",
      "5.0     27\n",
      "4.7     24\n",
      "3.4     17\n",
      "4.4      6\n",
      "4.6      4\n",
      "3.2      4\n",
      "3.1      3\n",
      "4.5      2\n",
      "2.4      1\n",
      "2.9      1\n",
      "4.9      1\n",
      "1.8      1\n",
      "2.6      1\n",
      "4.8      1\n",
      "2.0      1\n",
      "Name: count, dtype: int64\n",
      "Number of Ratings\n",
      "994.0     25\n",
      "2198.0    25\n",
      "827.0     25\n",
      "639.0     24\n",
      "4618.0    24\n",
      "          ..\n",
      "93.0       1\n",
      "282.0      1\n",
      "183.0      1\n",
      "422.0      1\n",
      "331.0      1\n",
      "Name: count, Length: 205, dtype: int64\n",
      "restaurant\n",
      "1    1616\n",
      "Name: count, dtype: int64\n",
      "meal_takeaway\n",
      "0    1454\n",
      "1     162\n",
      "Name: count, dtype: int64\n",
      "meal_delivery\n",
      "0    1391\n",
      "1     225\n",
      "Name: count, dtype: int64\n",
      "cafe\n",
      "0    1615\n",
      "1       1\n",
      "Name: count, dtype: int64\n",
      "food\n",
      "1    1616\n",
      "Name: count, dtype: int64\n",
      "bakery\n",
      "0    1591\n",
      "1      25\n",
      "Name: count, dtype: int64\n",
      "Weighted Rating\n",
      "3777.2     25\n",
      "8132.6     25\n",
      "2729.1     25\n",
      "6851.4     24\n",
      "18010.2    24\n",
      "           ..\n",
      "3.0         1\n",
      "736.3       1\n",
      "850.2       1\n",
      "854.1       1\n",
      "66.3        1\n",
      "Name: count, Length: 247, dtype: int64\n"
     ]
    }
   ],
   "source": [
    "for i in numeric_features:\n",
    "    print(df[i].value_counts())\n"
   ]
  },
  {
   "cell_type": "code",
   "execution_count": 12,
   "metadata": {},
   "outputs": [
    {
     "data": {
      "image/png": "[encoded data removed]",
      "text/plain": [
       "<Figure size 1500x1000 with 9 Axes>"
      ]
     },
     "metadata": {},
     "output_type": "display_data"
    }
   ],
   "source": [
    "# boxplot for the feature \n",
    "num_features = len(numeric_features)\n",
    "\n",
    "num_rows = math.ceil(num_features / 4)\n",
    "num_cols = min(4, num_features)\n",
    "\n",
    "plt.figure(figsize=(15, 10))\n",
    "\n",
    "for i, column in enumerate(numeric_features, 1):\n",
    "    plt.subplot(num_rows, num_cols, i)\n",
    "    sns.boxplot(x=df[column])\n",
    "    plt.title(column.capitalize())\n",
    "    plt.xlabel('')\n",
    "\n",
    "plt.tight_layout()\n",
    "plt.show()\n"
   ]
  },
  {
   "cell_type": "code",
   "execution_count": 13,
   "metadata": {},
   "outputs": [
    {
     "data": {
      "image/png": "[encoded data removed]",
      "text/plain": [
       "<Figure size 1000x600 with 1 Axes>"
      ]
     },
     "metadata": {},
     "output_type": "display_data"
    },
    {
     "data": {
      "image/png": "[encoded data removed]",
      "text/plain": [
       "<Figure size 1000x600 with 1 Axes>"
      ]
     },
     "metadata": {},
     "output_type": "display_data"
    },
    {
     "data": {
      "image/png": "[encoded data removed]",
      "text/plain": [
       "<Figure size 1000x600 with 1 Axes>"
      ]
     },
     "metadata": {},
     "output_type": "display_data"
    },
    {
     "data": {
      "image/png": "[encoded data removed]",
      "text/plain": [
       "<Figure size 1000x600 with 1 Axes>"
      ]
     },
     "metadata": {},
     "output_type": "display_data"
    },
    {
     "data": {
      "image/png": "[encoded data removed]",
      "text/plain": [
       "<Figure size 1000x600 with 1 Axes>"
      ]
     },
     "metadata": {},
     "output_type": "display_data"
    },
    {
     "data": {
      "image/png": "[encoded data removed]",
      "text/plain": [
       "<Figure size 1000x600 with 1 Axes>"
      ]
     },
     "metadata": {},
     "output_type": "display_data"
    },
    {
     "data": {
      "image/png": "[encoded data removed]",
      "text/plain": [
       "<Figure size 1000x600 with 1 Axes>"
      ]
     },
     "metadata": {},
     "output_type": "display_data"
    },
    {
     "data": {
      "image/png": "[encoded data removed]",
      "text/plain": [
       "<Figure size 1000x600 with 1 Axes>"
      ]
     },
     "metadata": {},
     "output_type": "display_data"
    },
    {
     "data": {
      "image/png": "[encoded data removed]",
      "text/plain": [
       "<Figure size 1000x600 with 1 Axes>"
      ]
     },
     "metadata": {},
     "output_type": "display_data"
    }
   ],
   "source": [
    "for feature in numeric_features:\n",
    "    plt.figure(figsize=(10, 6))\n",
    "    sns.histplot(df[feature], kde=True)  # kde=True adds the Kernel Density Estimate line\n",
    "    plt.title(f'Histogram of {feature}')\n",
    "    plt.xlabel(feature)\n",
    "    plt.ylabel('Frequency')\n",
    "    plt.show()"
   ]
  },
  {
   "cell_type": "code",
   "execution_count": 14,
   "metadata": {},
   "outputs": [
    {
     "data": {
      "text/plain": [
       "(1616, 13)"
      ]
     },
     "execution_count": 14,
     "metadata": {},
     "output_type": "execute_result"
    }
   ],
   "source": [
    "df.shape"
   ]
  },
  {
   "cell_type": "code",
   "execution_count": 15,
   "metadata": {},
   "outputs": [],
   "source": [
    "# df = df[df['age']<40]\n",
    "# df = df[df[\"appearance\"]<100]\n",
    "# df = df[df[\"goals\"]>0.5]\n",
    "# df = df[df['award']<5]\n",
    "# df = df[df[\"days_injured\"]<407]\n",
    "# df = df[df['games_injured']<60]\n",
    "# df = df[df[\"minutes played\"]<8000]\n",
    "\n"
   ]
  },
  {
   "cell_type": "code",
   "execution_count": 16,
   "metadata": {},
   "outputs": [
    {
     "data": {
      "text/html": [
       "<div>\n",
       "<style scoped>\n",
       "    .dataframe tbody tr th:only-of-type {\n",
       "        vertical-align: middle;\n",
       "    }\n",
       "\n",
       "    .dataframe tbody tr th {\n",
       "        vertical-align: top;\n",
       "    }\n",
       "\n",
       "    .dataframe thead th {\n",
       "        text-align: right;\n",
       "    }\n",
       "</style>\n",
       "<table border=\"1\" class=\"dataframe\">\n",
       "  <thead>\n",
       "    <tr style=\"text-align: right;\">\n",
       "      <th></th>\n",
       "      <th>Name</th>\n",
       "      <th>Rating</th>\n",
       "      <th>Number of Ratings</th>\n",
       "      <th>Longitude</th>\n",
       "      <th>Latitude</th>\n",
       "      <th>neighborhood</th>\n",
       "      <th>restaurant</th>\n",
       "      <th>meal_takeaway</th>\n",
       "      <th>meal_delivery</th>\n",
       "      <th>cafe</th>\n",
       "      <th>food</th>\n",
       "      <th>bakery</th>\n",
       "      <th>Weighted Rating</th>\n",
       "    </tr>\n",
       "  </thead>\n",
       "  <tbody>\n",
       "    <tr>\n",
       "      <th>0</th>\n",
       "      <td>فندق ميرا</td>\n",
       "      <td>3.7</td>\n",
       "      <td>1336.0</td>\n",
       "      <td>46.693985</td>\n",
       "      <td>24.701278</td>\n",
       "      <td>حي الملز</td>\n",
       "      <td>1</td>\n",
       "      <td>0</td>\n",
       "      <td>0</td>\n",
       "      <td>0</td>\n",
       "      <td>1</td>\n",
       "      <td>0</td>\n",
       "      <td>4943.2</td>\n",
       "    </tr>\n",
       "    <tr>\n",
       "      <th>1</th>\n",
       "      <td>مركز ماي كار لصيانة السيارات الاوروبية</td>\n",
       "      <td>3.5</td>\n",
       "      <td>2755.0</td>\n",
       "      <td>46.576437</td>\n",
       "      <td>24.851751</td>\n",
       "      <td>حي الملز</td>\n",
       "      <td>1</td>\n",
       "      <td>0</td>\n",
       "      <td>0</td>\n",
       "      <td>0</td>\n",
       "      <td>1</td>\n",
       "      <td>0</td>\n",
       "      <td>9642.5</td>\n",
       "    </tr>\n",
       "  </tbody>\n",
       "</table>\n",
       "</div>"
      ],
      "text/plain": [
       "                                     Name  Rating  Number of Ratings  \\\n",
       "0                               فندق ميرا     3.7             1336.0   \n",
       "1  مركز ماي كار لصيانة السيارات الاوروبية     3.5             2755.0   \n",
       "\n",
       "   Longitude   Latitude neighborhood  restaurant  meal_takeaway  \\\n",
       "0  46.693985  24.701278     حي الملز           1              0   \n",
       "1  46.576437  24.851751     حي الملز           1              0   \n",
       "\n",
       "   meal_delivery  cafe  food  bakery  Weighted Rating  \n",
       "0              0     0     1       0           4943.2  \n",
       "1              0     0     1       0           9642.5  "
      ]
     },
     "execution_count": 16,
     "metadata": {},
     "output_type": "execute_result"
    }
   ],
   "source": [
    "df.head(2)"
   ]
  },
  {
   "cell_type": "code",
   "execution_count": 17,
   "metadata": {},
   "outputs": [
    {
     "data": {
      "application/vnd.plotly.v1+json": {
       "config": {
        "plotlyServerURL": "https://plot.ly"
       },
       "data": [
        {
         "alignmentgroup": "True",
         "bingroup": "x",
         "hovertemplate": "Rating=%{x}<br>count=%{y}<extra></extra>",
         "legendgroup": "",
         "marker": {
          "color": "#636efa",
          "pattern": {
           "shape": ""
          }
         },
         "name": "",
         "nbinsx": 50,
         "offsetgroup": "",
         "orientation": "v",
         "showlegend": false,
         "type": "histogram",
         "x": [
          3.7,
          3.5,
          4,
          3,
          4,
          3.9,
          4.3,
          3.8,
          3.7,
          3.9,
          3.8,
          4.3,
          3.6,
          3.7,
          3.8,
          3.8,
          3.8,
          3.3,
          3.5,
          3.9,
          4.1,
          3.8,
          3.8,
          4.3,
          4.1,
          3.3,
          4.1,
          3.6,
          3.7,
          3.9,
          3.7,
          3.9,
          3.9,
          3.9,
          3.7,
          3.8,
          3.6,
          4.3,
          3.5,
          4,
          4.2,
          3.7,
          3.8,
          4.1,
          4.2,
          3.6,
          3.7,
          3.8,
          3.9,
          3.8,
          3.5,
          4.7,
          3.7,
          4.2,
          4.2,
          3.5,
          3.6,
          3.8,
          3.7,
          3.4,
          3.7,
          3.5,
          4,
          3,
          4,
          3.9,
          4.3,
          3.8,
          3.7,
          3.9,
          3.8,
          4.3,
          3.6,
          3.7,
          3.8,
          3.8,
          3.8,
          3.3,
          3.5,
          3.9,
          4.1,
          3.8,
          3.8,
          4.3,
          4.1,
          3.3,
          4.1,
          3.7,
          3.6,
          3.9,
          3.7,
          3.9,
          3.9,
          3.7,
          3.9,
          3.8,
          3.6,
          4.3,
          3.5,
          4,
          4.2,
          3.7,
          3.8,
          4.1,
          4.2,
          3.6,
          3.7,
          3.8,
          3.9,
          3.5,
          3.8,
          4.7,
          3.7,
          4.2,
          4.2,
          3.6,
          3.5,
          3.8,
          3.7,
          3.8,
          3.7,
          3.5,
          4,
          3,
          4,
          3.9,
          4.3,
          3.8,
          3.7,
          3.9,
          3.8,
          4.3,
          3.6,
          3.7,
          3.8,
          3.8,
          3.8,
          3.3,
          3.5,
          3.9,
          4.1,
          3.8,
          3.8,
          4.3,
          4.1,
          3.3,
          4.1,
          3.7,
          3.6,
          3.9,
          3.7,
          3.9,
          3.9,
          3.7,
          3.9,
          3.8,
          3.6,
          4.3,
          3.5,
          4,
          4.2,
          3.7,
          3.8,
          4.1,
          4.2,
          3.6,
          3.7,
          3.8,
          3.9,
          3.5,
          3.8,
          4.7,
          3.7,
          4.2,
          4.2,
          3.6,
          3.5,
          3.8,
          3.7,
          3.4,
          3.7,
          3.5,
          4,
          3,
          4,
          3.9,
          4.3,
          3.8,
          3.7,
          3.9,
          3.8,
          4.3,
          3.6,
          3.7,
          3.8,
          3.8,
          3.8,
          3.3,
          3.5,
          3.9,
          4.1,
          3.8,
          3.8,
          4.3,
          4.1,
          3.3,
          4.1,
          3.6,
          3.7,
          3.9,
          3.7,
          3.9,
          3.9,
          3.9,
          3.7,
          3.8,
          3.6,
          4.3,
          3.5,
          4,
          4.2,
          3.7,
          3.8,
          4.1,
          4.2,
          3.6,
          3.7,
          3.8,
          3.9,
          3.5,
          3.8,
          4.7,
          3.7,
          4.2,
          4.2,
          3.6,
          3.5,
          3.8,
          3.7,
          3.4,
          3.7,
          3.5,
          4,
          3,
          4,
          3.9,
          4.3,
          3.8,
          3.7,
          3.9,
          3.8,
          4.3,
          3.6,
          3.7,
          3.8,
          3.8,
          3.8,
          3.3,
          3.5,
          3.9,
          4.1,
          3.8,
          3.8,
          4.3,
          4.1,
          3.3,
          4.1,
          3.6,
          3.7,
          3.9,
          3.7,
          3.9,
          3.9,
          3.9,
          3.7,
          3.8,
          3.6,
          4.3,
          3.5,
          4,
          4.2,
          3.7,
          3.8,
          4.1,
          4.2,
          3.6,
          3.7,
          3.8,
          3.9,
          3.8,
          3.5,
          4.7,
          3.7,
          4.2,
          4.2,
          3.5,
          3.6,
          3.8,
          3.7,
          3.4,
          3.7,
          3.5,
          4,
          3,
          4,
          3.9,
          4.3,
          3.8,
          3.7,
          3.9,
          3.8,
          4.3,
          3.6,
          3.7,
          3.8,
          3.8,
          3.8,
          3.3,
          3.5,
          3.9,
          4.1,
          3.8,
          3.8,
          4.3,
          4.1,
          3.3,
          3.7,
          4.1,
          3.6,
          3.9,
          3.7,
          3.9,
          3.7,
          3.9,
          3.9,
          3.8,
          3.6,
          4.3,
          4,
          3.5,
          4.2,
          3.8,
          3.7,
          4.1,
          4.2,
          3.6,
          3.7,
          3.8,
          3.9,
          3.5,
          3.8,
          4.7,
          3.7,
          4.2,
          4.2,
          3.6,
          3.5,
          3.8,
          3.7,
          3.4,
          3.3,
          3.2,
          3.2,
          3,
          4.1,
          3.6,
          4.1,
          4.4,
          5,
          4.6,
          5,
          3.7,
          3.9,
          3.5,
          4.7,
          3,
          5,
          4.7,
          5,
          3.7,
          3.8,
          3.7,
          3.7,
          3.3,
          4,
          3.5,
          3.7,
          4.4,
          3.6,
          4,
          3.3,
          5,
          2.4,
          2.9,
          4.9,
          5,
          5,
          4.1,
          4.1,
          5,
          5,
          4.3,
          4.1,
          5,
          3.4,
          5,
          4.3,
          3.8,
          4.5,
          1.8,
          3,
          4,
          3.7,
          3.5,
          4,
          3,
          4,
          3.9,
          4.3,
          3.8,
          3.7,
          3.9,
          3.8,
          4.3,
          3.6,
          3.7,
          3.8,
          3.8,
          3.8,
          3.3,
          3.5,
          3.9,
          4.1,
          3.8,
          3.8,
          4.3,
          4.1,
          3.7,
          3.3,
          4.1,
          3.6,
          3.9,
          3.7,
          3.9,
          3.7,
          3.9,
          3.9,
          3.6,
          4.3,
          3.8,
          4,
          3.5,
          3.8,
          3.7,
          4.1,
          4.2,
          4.2,
          3.6,
          3.7,
          3.9,
          3.8,
          3.5,
          3.8,
          4.7,
          3.7,
          4.2,
          3.6,
          4.2,
          3.5,
          3.8,
          3.7,
          3.8,
          3.7,
          3.5,
          4,
          3,
          4,
          3.9,
          4.3,
          3.8,
          3.7,
          3.9,
          3.8,
          4.3,
          3.6,
          3.7,
          3.8,
          3.8,
          3.8,
          3.3,
          3.5,
          3.9,
          4.1,
          3.8,
          3.8,
          4.3,
          4.1,
          3.7,
          4.1,
          3.6,
          3.9,
          3.7,
          3.3,
          3.9,
          3.7,
          3.9,
          3.6,
          3.9,
          4.3,
          4,
          3.5,
          3.8,
          3.8,
          3.7,
          4.1,
          4.2,
          4.2,
          3.6,
          3.7,
          3.9,
          3.8,
          3.5,
          4.7,
          3.8,
          3.7,
          4.2,
          3.6,
          4.2,
          3.8,
          3.5,
          3.7,
          3.8,
          3.7,
          3.5,
          4,
          3,
          4,
          3.9,
          4.3,
          3.8,
          3.7,
          3.9,
          3.8,
          4.3,
          3.6,
          3.7,
          3.8,
          3.8,
          3.8,
          3.3,
          3.5,
          3.9,
          3.8,
          4.1,
          3.8,
          4.3,
          4.1,
          3.7,
          3.7,
          3.9,
          4.1,
          3.7,
          3.6,
          3.9,
          3.9,
          3.3,
          4.3,
          4,
          3.6,
          3.5,
          3.8,
          3.9,
          4.1,
          3.7,
          4.2,
          3.8,
          3.6,
          3.7,
          3.9,
          3.5,
          4.7,
          3.8,
          3.7,
          4.2,
          3.8,
          3.6,
          4.2,
          3.5,
          3.8,
          3.7,
          3.8,
          3.9,
          3.7,
          3.5,
          4,
          3,
          4,
          3.9,
          4.3,
          3.8,
          3.7,
          3.9,
          3.8,
          4.3,
          3.6,
          3.7,
          3.8,
          3.8,
          3.8,
          3.3,
          3.5,
          3.9,
          3.8,
          4.1,
          3.8,
          4.3,
          4.1,
          3.7,
          4.1,
          3.9,
          3.6,
          3.7,
          3.7,
          3.9,
          3.9,
          3.3,
          4.3,
          3.6,
          4,
          3.9,
          3.5,
          3.8,
          3.7,
          4.1,
          3.8,
          4.2,
          3.6,
          4.2,
          3.7,
          3.9,
          3.5,
          4.7,
          3.8,
          3.8,
          3.7,
          4.2,
          3.6,
          3.8,
          3.5,
          4.2,
          3.7,
          3.8,
          3.7,
          3.5,
          4,
          3,
          4,
          3.9,
          4.3,
          3.8,
          3.8,
          3.7,
          3.9,
          4.3,
          3.6,
          3.7,
          3.8,
          3.8,
          3.3,
          3.5,
          3.8,
          3.9,
          3.8,
          3.8,
          4.3,
          3.7,
          4.1,
          3.7,
          3.7,
          3.9,
          4.1,
          3.9,
          3.9,
          4.3,
          4,
          3.8,
          4.1,
          3.5,
          4.2,
          3.7,
          4.1,
          4.7,
          3.6,
          3.7,
          3.6,
          3.5,
          3.9,
          4.2,
          3.6,
          3.8,
          3.9,
          3.8,
          3.9,
          3.7,
          3.5,
          3.7,
          3.3,
          3.8,
          3.7,
          3.8,
          3.7,
          4,
          3.7,
          3.5,
          4,
          3,
          4,
          3.9,
          4.3,
          3.8,
          3.7,
          3.9,
          3.8,
          4.3,
          3.6,
          3.7,
          3.8,
          3.8,
          3.8,
          3.3,
          3.5,
          3.9,
          4.1,
          3.8,
          3.8,
          4.3,
          3.7,
          3.3,
          4.1,
          3.9,
          3.7,
          4.1,
          3.7,
          3.9,
          3.6,
          3.9,
          3.9,
          3.8,
          4.3,
          3.6,
          4,
          3.5,
          3.8,
          4.1,
          3.7,
          4.2,
          4.2,
          3.6,
          3.7,
          3.8,
          3.5,
          3.9,
          3.8,
          4.7,
          3.7,
          3.6,
          3.5,
          4.2,
          3.8,
          3.7,
          3.9,
          4.2,
          3.7,
          3.5,
          4,
          3,
          4,
          3.9,
          4.3,
          3.8,
          3.7,
          3.9,
          3.8,
          4.3,
          3.6,
          3.7,
          3.8,
          3.8,
          3.8,
          3.3,
          3.5,
          3.9,
          3.8,
          4.1,
          3.8,
          4.3,
          3.7,
          4.1,
          3.7,
          3.9,
          3.3,
          3.7,
          3.9,
          3.9,
          4.1,
          3.6,
          4.3,
          3.9,
          4,
          3.6,
          3.5,
          3.8,
          4.1,
          3.8,
          3.7,
          4.2,
          3.6,
          3.7,
          3.5,
          4.7,
          3.8,
          4.2,
          3.9,
          3.7,
          3.8,
          3.6,
          3.5,
          3.8,
          3.9,
          4.2,
          3.7,
          3.8,
          4.3,
          3.7,
          4.3,
          3.6,
          3.8,
          3.8,
          3.3,
          3.9,
          3.8,
          3.8,
          4.1,
          3.9,
          4.3,
          3.5,
          3.7,
          3.7,
          3.8,
          3.8,
          3.7,
          3.8,
          3.5,
          3.7,
          3.7,
          3.5,
          4,
          3,
          4,
          3.9,
          4.3,
          3.8,
          3.7,
          3.9,
          3.8,
          4.3,
          3.6,
          3.7,
          3.8,
          3.8,
          3.8,
          3.3,
          3.5,
          3.9,
          3.8,
          4.1,
          3.8,
          4.3,
          4.1,
          3.7,
          3.9,
          3.7,
          4.1,
          3.3,
          3.6,
          3.7,
          3.9,
          3.9,
          4.3,
          3.9,
          3.6,
          4,
          3.5,
          3.8,
          3.8,
          4.1,
          3.7,
          4.2,
          3.6,
          4.2,
          3.7,
          3.9,
          3.8,
          3.5,
          4.7,
          3.8,
          3.7,
          4.2,
          3.6,
          3.5,
          3.8,
          3.7,
          4.2,
          3.8,
          3.7,
          3.5,
          4,
          3,
          4,
          3.9,
          4.3,
          3.8,
          3.8,
          3.7,
          3.9,
          4.3,
          3.6,
          3.7,
          3.8,
          3.8,
          3.3,
          3.5,
          3.8,
          3.9,
          3.8,
          3.8,
          4.3,
          3.7,
          3.7,
          3.7,
          4.1,
          3.9,
          3.9,
          3.9,
          4.3,
          4,
          3.8,
          4.1,
          3.5,
          3.7,
          4.1,
          4.2,
          3.6,
          4.7,
          3.7,
          3.6,
          4.1,
          3.9,
          4.2,
          3.5,
          3.8,
          3.9,
          3.6,
          3.5,
          3.8,
          3.7,
          3.9,
          3.7,
          3.8,
          4.2,
          3.7,
          3.8,
          3.7,
          4,
          3.7,
          3.5,
          4,
          3,
          4,
          3.9,
          4.3,
          3.8,
          3.8,
          3.7,
          3.9,
          4.3,
          3.6,
          3.7,
          3.8,
          3.8,
          3.3,
          3.8,
          3.5,
          3.9,
          3.8,
          4.1,
          3.8,
          4.3,
          3.7,
          3.7,
          3.7,
          4.1,
          3.9,
          3.9,
          3.9,
          4.3,
          4,
          3.8,
          4.1,
          3.5,
          4.1,
          3.6,
          3.7,
          4.2,
          3.6,
          4.7,
          3.7,
          3.5,
          3.3,
          3.9,
          3.6,
          3.9,
          4.2,
          3.8,
          3.8,
          3.5,
          3.7,
          3.9,
          3.7,
          4.2,
          3.8,
          3.9,
          3.6,
          3.8,
          3.7,
          3.5,
          4,
          3,
          4,
          3.9,
          4.3,
          3.8,
          3.7,
          3.9,
          3.8,
          4.3,
          3.6,
          3.7,
          3.8,
          3.8,
          3.8,
          3.3,
          3.5,
          3.9,
          4.1,
          3.8,
          3.8,
          4.3,
          3.3,
          3.7,
          3.9,
          4.1,
          3.6,
          3.7,
          3.9,
          4.1,
          3.9,
          3.7,
          3.9,
          3.8,
          3.6,
          4.3,
          3.5,
          4,
          4.2,
          4.1,
          3.8,
          3.7,
          4.2,
          3.6,
          3.7,
          3.8,
          3.8,
          3.5,
          3.9,
          4.7,
          3.7,
          3.4,
          3.9,
          3.8,
          4.2,
          3.5,
          4.2,
          3.7,
          3.7,
          3.5,
          4,
          3,
          4,
          4.3,
          3.9,
          3.8,
          3.7,
          3.9,
          3.8,
          4.3,
          3.6,
          3.7,
          3.8,
          3.8,
          3.8,
          3.3,
          3.5,
          3.9,
          4.1,
          3.8,
          3.8,
          3.3,
          4.3,
          3.9,
          4.1,
          3.9,
          3.7,
          3.6,
          3.9,
          3.8,
          3.9,
          3.7,
          3.7,
          3.6,
          4.3,
          4.2,
          3.5,
          4.1,
          4,
          4.1,
          3.8,
          3.6,
          4.2,
          3.7,
          3.7,
          3.8,
          3.8,
          3.5,
          3.9,
          3.4,
          3.9,
          3.8,
          4.2,
          3.6,
          3.5,
          3.9,
          3.9,
          3.7,
          3.7,
          3.5,
          4,
          3,
          4,
          4.3,
          3.9,
          3.8,
          3.7,
          3.9,
          3.8,
          4.3,
          3.6,
          3.7,
          3.8,
          3.8,
          3.8,
          3.3,
          3.5,
          3.9,
          4.1,
          3.8,
          3.8,
          3.3,
          4.3,
          3.9,
          3.9,
          3.8,
          4.1,
          3.9,
          3.6,
          3.6,
          3.9,
          3.7,
          3.7,
          4.2,
          3.7,
          4.3,
          3.5,
          4,
          4.1,
          3.6,
          3.7,
          4.2,
          3.8,
          3.8,
          3.8,
          3.5,
          3.7,
          3.4,
          3.9,
          4.1,
          3.9,
          3.8,
          3.9,
          3.6,
          3.9,
          4.2,
          4,
          3.8,
          3.7,
          3.5,
          4,
          3,
          4,
          4.3,
          3.9,
          3.8,
          3.7,
          3.9,
          3.8,
          4.3,
          3.6,
          3.7,
          3.8,
          3.8,
          3.8,
          3.3,
          3.5,
          3.9,
          4.1,
          3.8,
          3.8,
          3.3,
          3.9,
          3.8,
          4.3,
          3.6,
          3.9,
          4.2,
          3.9,
          3.9,
          3.7,
          3.7,
          3.6,
          3.7,
          4.1,
          3.5,
          4.3,
          3.7,
          4,
          3.8,
          4.2,
          4.1,
          3.8,
          3.5,
          3.6,
          3.9,
          3.4,
          3.8,
          3.8,
          3.9,
          3.9,
          4,
          3.8,
          3.8,
          3.7,
          3.7,
          3.8,
          3.4,
          3.7,
          3.5,
          4,
          3,
          4,
          4.3,
          3.9,
          3.8,
          3.7,
          3.9,
          3.8,
          4.3,
          3.6,
          3.7,
          3.8,
          3.8,
          3.8,
          3.3,
          3.5,
          3.9,
          4.1,
          3.8,
          3.8,
          3.3,
          4.3,
          3.9,
          4.1,
          3.9,
          3.6,
          3.9,
          3.7,
          3.8,
          3.9,
          3.6,
          3.7,
          3.7,
          4.3,
          4.2,
          3.5,
          4,
          4.1,
          4.1,
          3.6,
          3.7,
          4.2,
          3.8,
          3.7,
          3.8,
          3.8,
          3.5,
          3.9,
          3.4,
          3.9,
          3.8,
          4.2,
          3.6,
          3.9,
          3.9,
          3.5,
          3.7,
          3.8,
          3.8,
          4.2,
          3.7,
          3.5,
          4.6,
          3.5,
          5,
          3.7,
          5,
          3.5,
          3.9,
          3.4,
          2.6,
          3.7,
          4,
          3,
          3.7,
          3.9,
          3.9,
          4.8,
          3.1,
          3.9,
          3.6,
          3,
          4.3,
          4,
          3.6,
          3.6,
          3.8,
          3.7,
          4.6,
          4.2,
          4,
          5,
          3.1,
          4.3,
          3,
          3.5,
          4,
          4,
          2,
          4.6,
          5,
          4.1,
          4.7,
          4.4,
          5,
          5,
          3.8,
          3.5,
          4.7,
          3.7,
          3.1,
          3.7,
          4,
          3,
          3.8,
          3.9,
          3.7,
          3.8,
          3.3,
          3.5,
          3.8,
          3.7,
          3.9,
          4.1,
          3.8,
          3.6,
          3.8,
          4.1,
          4,
          3.3,
          4.3,
          4,
          3.8,
          3.8,
          3.7,
          3.9,
          3.9,
          3.2,
          4.2,
          3.2,
          3.4,
          3.8,
          3.8,
          3.4,
          3.8,
          3.9,
          3.8,
          3.7,
          3.9,
          4,
          3.7,
          3.7,
          4,
          3.9,
          3.9,
          3.4,
          4.4,
          3.6,
          3.6,
          3.6,
          3.9,
          3.7,
          3.8,
          4.1,
          3.7,
          3.9,
          3.8,
          3.9,
          3.8,
          4.1,
          3.8,
          4,
          3.7,
          3.6,
          4,
          3.4,
          3.9,
          5,
          3.8,
          4.1,
          4.2,
          3.6,
          3.7,
          3.9,
          3.7,
          5,
          4.2,
          5,
          4,
          3.8,
          5,
          5,
          4,
          5,
          3,
          5,
          4.2,
          4.3,
          4.2,
          4.4,
          3.8,
          5,
          3.7,
          3.6,
          4,
          5,
          3.9,
          4.3,
          5,
          4.1,
          3.6,
          4.4,
          3.8,
          3.7,
          3.7,
          4.1,
          4.5,
          4.7,
          3.9,
          3.7,
          3.5,
          4,
          3,
          4,
          3.9,
          4.3,
          3.8,
          3.7,
          3.9,
          3.8,
          4.3,
          3.6,
          3.7,
          3.8,
          3.8,
          3.8,
          3.3,
          3.5,
          3.9,
          3.8,
          4.1,
          3.8,
          4.1,
          4.3,
          4.1,
          3.7,
          3.6,
          3.9,
          3.7,
          3.9,
          3.9,
          3.7,
          3.3,
          3.6,
          4.3,
          4,
          3.5,
          3.7,
          3.9,
          3.8,
          4.1,
          4.2,
          4.2,
          3.8,
          3.6,
          3.9,
          3.7,
          3.5,
          4.7,
          3.8,
          3.8,
          3.7,
          4.2,
          4.2,
          3.6,
          3.8,
          3.5,
          3.7,
          3.6,
          3.7,
          3.5,
          4,
          3,
          4,
          3.9,
          4.3,
          3.8,
          3.7,
          3.9,
          3.8,
          4.3,
          3.6,
          3.7,
          3.8,
          3.8,
          3.8,
          3.3,
          3.5,
          3.9,
          3.8,
          4.1,
          3.8,
          4.3,
          4.1,
          4.1,
          3.7,
          3.6,
          3.9,
          3.7,
          3.9,
          3.7,
          3.9,
          3.3,
          3.6,
          4.3,
          3.9,
          4,
          3.5,
          3.7,
          3.8,
          4.1,
          3.8,
          4.2,
          4.2,
          3.6,
          3.7,
          3.9,
          3.5,
          3.8,
          4.7,
          3.8,
          3.7,
          4.2,
          3.6,
          4.2,
          3.8,
          3.5,
          3.7,
          3.8
         ],
         "xaxis": "x",
         "yaxis": "y"
        }
       ],
       "layout": {
        "barmode": "relative",
        "legend": {
         "tracegroupgap": 0
        },
        "template": {
         "data": {
          "bar": [
           {
            "error_x": {
             "color": "#2a3f5f"
            },
            "error_y": {
             "color": "#2a3f5f"
            },
            "marker": {
             "line": {
              "color": "#E5ECF6",
              "width": 0.5
             },
             "pattern": {
              "fillmode": "overlay",
              "size": 10,
              "solidity": 0.2
             }
            },
            "type": "bar"
           }
          ],
          "barpolar": [
           {
            "marker": {
             "line": {
              "color": "#E5ECF6",
              "width": 0.5
             },
             "pattern": {
              "fillmode": "overlay",
              "size": 10,
              "solidity": 0.2
             }
            },
            "type": "barpolar"
           }
          ],
          "carpet": [
           {
            "aaxis": {
             "endlinecolor": "#2a3f5f",
             "gridcolor": "white",
             "linecolor": "white",
             "minorgridcolor": "white",
             "startlinecolor": "#2a3f5f"
            },
            "baxis": {
             "endlinecolor": "#2a3f5f",
             "gridcolor": "white",
             "linecolor": "white",
             "minorgridcolor": "white",
             "startlinecolor": "#2a3f5f"
            },
            "type": "carpet"
           }
          ],
          "choropleth": [
           {
            "colorbar": {
             "outlinewidth": 0,
             "ticks": ""
            },
            "type": "choropleth"
           }
          ],
          "contour": [
           {
            "colorbar": {
             "outlinewidth": 0,
             "ticks": ""
            },
            "colorscale": [
             [
              0,
              "#0d0887"
             ],
             [
              0.1111111111111111,
              "#46039f"
             ],
             [
              0.2222222222222222,
              "#7201a8"
             ],
             [
              0.3333333333333333,
              "#9c179e"
             ],
             [
              0.4444444444444444,
              "#bd3786"
             ],
             [
              0.5555555555555556,
              "#d8576b"
             ],
             [
              0.6666666666666666,
              "#ed7953"
             ],
             [
              0.7777777777777778,
              "#fb9f3a"
             ],
             [
              0.8888888888888888,
              "#fdca26"
             ],
             [
              1,
              "#f0f921"
             ]
            ],
            "type": "contour"
           }
          ],
          "contourcarpet": [
           {
            "colorbar": {
             "outlinewidth": 0,
             "ticks": ""
            },
            "type": "contourcarpet"
           }
          ],
          "heatmap": [
           {
            "colorbar": {
             "outlinewidth": 0,
             "ticks": ""
            },
            "colorscale": [
             [
              0,
              "#0d0887"
             ],
             [
              0.1111111111111111,
              "#46039f"
             ],
             [
              0.2222222222222222,
              "#7201a8"
             ],
             [
              0.3333333333333333,
              "#9c179e"
             ],
             [
              0.4444444444444444,
              "#bd3786"
             ],
             [
              0.5555555555555556,
              "#d8576b"
             ],
             [
              0.6666666666666666,
              "#ed7953"
             ],
             [
              0.7777777777777778,
              "#fb9f3a"
             ],
             [
              0.8888888888888888,
              "#fdca26"
             ],
             [
              1,
              "#f0f921"
             ]
            ],
            "type": "heatmap"
           }
          ],
          "heatmapgl": [
           {
            "colorbar": {
             "outlinewidth": 0,
             "ticks": ""
            },
            "colorscale": [
             [
              0,
              "#0d0887"
             ],
             [
              0.1111111111111111,
              "#46039f"
             ],
             [
              0.2222222222222222,
              "#7201a8"
             ],
             [
              0.3333333333333333,
              "#9c179e"
             ],
             [
              0.4444444444444444,
              "#bd3786"
             ],
             [
              0.5555555555555556,
              "#d8576b"
             ],
             [
              0.6666666666666666,
              "#ed7953"
             ],
             [
              0.7777777777777778,
              "#fb9f3a"
             ],
             [
              0.8888888888888888,
              "#fdca26"
             ],
             [
              1,
              "#f0f921"
             ]
            ],
            "type": "heatmapgl"
           }
          ],
          "histogram": [
           {
            "marker": {
             "pattern": {
              "fillmode": "overlay",
              "size": 10,
              "solidity": 0.2
             }
            },
            "type": "histogram"
           }
          ],
          "histogram2d": [
           {
            "colorbar": {
             "outlinewidth": 0,
             "ticks": ""
            },
            "colorscale": [
             [
              0,
              "#0d0887"
             ],
             [
              0.1111111111111111,
              "#46039f"
             ],
             [
              0.2222222222222222,
              "#7201a8"
             ],
             [
              0.3333333333333333,
              "#9c179e"
             ],
             [
              0.4444444444444444,
              "#bd3786"
             ],
             [
              0.5555555555555556,
              "#d8576b"
             ],
             [
              0.6666666666666666,
              "#ed7953"
             ],
             [
              0.7777777777777778,
              "#fb9f3a"
             ],
             [
              0.8888888888888888,
              "#fdca26"
             ],
             [
              1,
              "#f0f921"
             ]
            ],
            "type": "histogram2d"
           }
          ],
          "histogram2dcontour": [
           {
            "colorbar": {
             "outlinewidth": 0,
             "ticks": ""
            },
            "colorscale": [
             [
              0,
              "#0d0887"
             ],
             [
              0.1111111111111111,
              "#46039f"
             ],
             [
              0.2222222222222222,
              "#7201a8"
             ],
             [
              0.3333333333333333,
              "#9c179e"
             ],
             [
              0.4444444444444444,
              "#bd3786"
             ],
             [
              0.5555555555555556,
              "#d8576b"
             ],
             [
              0.6666666666666666,
              "#ed7953"
             ],
             [
              0.7777777777777778,
              "#fb9f3a"
             ],
             [
              0.8888888888888888,
              "#fdca26"
             ],
             [
              1,
              "#f0f921"
             ]
            ],
            "type": "histogram2dcontour"
           }
          ],
          "mesh3d": [
           {
            "colorbar": {
             "outlinewidth": 0,
             "ticks": ""
            },
            "type": "mesh3d"
           }
          ],
          "parcoords": [
           {
            "line": {
             "colorbar": {
              "outlinewidth": 0,
              "ticks": ""
             }
            },
            "type": "parcoords"
           }
          ],
          "pie": [
           {
            "automargin": true,
            "type": "pie"
           }
          ],
          "scatter": [
           {
            "fillpattern": {
             "fillmode": "overlay",
             "size": 10,
             "solidity": 0.2
            },
            "type": "scatter"
           }
          ],
          "scatter3d": [
           {
            "line": {
             "colorbar": {
              "outlinewidth": 0,
              "ticks": ""
             }
            },
            "marker": {
             "colorbar": {
              "outlinewidth": 0,
              "ticks": ""
             }
            },
            "type": "scatter3d"
           }
          ],
          "scattercarpet": [
           {
            "marker": {
             "colorbar": {
              "outlinewidth": 0,
              "ticks": ""
             }
            },
            "type": "scattercarpet"
           }
          ],
          "scattergeo": [
           {
            "marker": {
             "colorbar": {
              "outlinewidth": 0,
              "ticks": ""
             }
            },
            "type": "scattergeo"
           }
          ],
          "scattergl": [
           {
            "marker": {
             "colorbar": {
              "outlinewidth": 0,
              "ticks": ""
             }
            },
            "type": "scattergl"
           }
          ],
          "scattermapbox": [
           {
            "marker": {
             "colorbar": {
              "outlinewidth": 0,
              "ticks": ""
             }
            },
            "type": "scattermapbox"
           }
          ],
          "scatterpolar": [
           {
            "marker": {
             "colorbar": {
              "outlinewidth": 0,
              "ticks": ""
             }
            },
            "type": "scatterpolar"
           }
          ],
          "scatterpolargl": [
           {
            "marker": {
             "colorbar": {
              "outlinewidth": 0,
              "ticks": ""
             }
            },
            "type": "scatterpolargl"
           }
          ],
          "scatterternary": [
           {
            "marker": {
             "colorbar": {
              "outlinewidth": 0,
              "ticks": ""
             }
            },
            "type": "scatterternary"
           }
          ],
          "surface": [
           {
            "colorbar": {
             "outlinewidth": 0,
             "ticks": ""
            },
            "colorscale": [
             [
              0,
              "#0d0887"
             ],
             [
              0.1111111111111111,
              "#46039f"
             ],
             [
              0.2222222222222222,
              "#7201a8"
             ],
             [
              0.3333333333333333,
              "#9c179e"
             ],
             [
              0.4444444444444444,
              "#bd3786"
             ],
             [
              0.5555555555555556,
              "#d8576b"
             ],
             [
              0.6666666666666666,
              "#ed7953"
             ],
             [
              0.7777777777777778,
              "#fb9f3a"
             ],
             [
              0.8888888888888888,
              "#fdca26"
             ],
             [
              1,
              "#f0f921"
             ]
            ],
            "type": "surface"
           }
          ],
          "table": [
           {
            "cells": {
             "fill": {
              "color": "#EBF0F8"
             },
             "line": {
              "color": "white"
             }
            },
            "header": {
             "fill": {
              "color": "#C8D4E3"
             },
             "line": {
              "color": "white"
             }
            },
            "type": "table"
           }
          ]
         },
         "layout": {
          "annotationdefaults": {
           "arrowcolor": "#2a3f5f",
           "arrowhead": 0,
           "arrowwidth": 1
          },
          "autotypenumbers": "strict",
          "coloraxis": {
           "colorbar": {
            "outlinewidth": 0,
            "ticks": ""
           }
          },
          "colorscale": {
           "diverging": [
            [
             0,
             "#8e0152"
            ],
            [
             0.1,
             "#c51b7d"
            ],
            [
             0.2,
             "#de77ae"
            ],
            [
             0.3,
             "#f1b6da"
            ],
            [
             0.4,
             "#fde0ef"
            ],
            [
             0.5,
             "#f7f7f7"
            ],
            [
             0.6,
             "#e6f5d0"
            ],
            [
             0.7,
             "#b8e186"
            ],
            [
             0.8,
             "#7fbc41"
            ],
            [
             0.9,
             "#4d9221"
            ],
            [
             1,
             "#276419"
            ]
           ],
           "sequential": [
            [
             0,
             "#0d0887"
            ],
            [
             0.1111111111111111,
             "#46039f"
            ],
            [
             0.2222222222222222,
             "#7201a8"
            ],
            [
             0.3333333333333333,
             "#9c179e"
            ],
            [
             0.4444444444444444,
             "#bd3786"
            ],
            [
             0.5555555555555556,
             "#d8576b"
            ],
            [
             0.6666666666666666,
             "#ed7953"
            ],
            [
             0.7777777777777778,
             "#fb9f3a"
            ],
            [
             0.8888888888888888,
             "#fdca26"
            ],
            [
             1,
             "#f0f921"
            ]
           ],
           "sequentialminus": [
            [
             0,
             "#0d0887"
            ],
            [
             0.1111111111111111,
             "#46039f"
            ],
            [
             0.2222222222222222,
             "#7201a8"
            ],
            [
             0.3333333333333333,
             "#9c179e"
            ],
            [
             0.4444444444444444,
             "#bd3786"
            ],
            [
             0.5555555555555556,
             "#d8576b"
            ],
            [
             0.6666666666666666,
             "#ed7953"
            ],
            [
             0.7777777777777778,
             "#fb9f3a"
            ],
            [
             0.8888888888888888,
             "#fdca26"
            ],
            [
             1,
             "#f0f921"
            ]
           ]
          },
          "colorway": [
           "#636efa",
           "#EF553B",
           "#00cc96",
           "#ab63fa",
           "#FFA15A",
           "#19d3f3",
           "#FF6692",
           "#B6E880",
           "#FF97FF",
           "#FECB52"
          ],
          "font": {
           "color": "#2a3f5f"
          },
          "geo": {
           "bgcolor": "white",
           "lakecolor": "white",
           "landcolor": "#E5ECF6",
           "showlakes": true,
           "showland": true,
           "subunitcolor": "white"
          },
          "hoverlabel": {
           "align": "left"
          },
          "hovermode": "closest",
          "mapbox": {
           "style": "light"
          },
          "paper_bgcolor": "white",
          "plot_bgcolor": "#E5ECF6",
          "polar": {
           "angularaxis": {
            "gridcolor": "white",
            "linecolor": "white",
            "ticks": ""
           },
           "bgcolor": "#E5ECF6",
           "radialaxis": {
            "gridcolor": "white",
            "linecolor": "white",
            "ticks": ""
           }
          },
          "scene": {
           "xaxis": {
            "backgroundcolor": "#E5ECF6",
            "gridcolor": "white",
            "gridwidth": 2,
            "linecolor": "white",
            "showbackground": true,
            "ticks": "",
            "zerolinecolor": "white"
           },
           "yaxis": {
            "backgroundcolor": "#E5ECF6",
            "gridcolor": "white",
            "gridwidth": 2,
            "linecolor": "white",
            "showbackground": true,
            "ticks": "",
            "zerolinecolor": "white"
           },
           "zaxis": {
            "backgroundcolor": "#E5ECF6",
            "gridcolor": "white",
            "gridwidth": 2,
            "linecolor": "white",
            "showbackground": true,
            "ticks": "",
            "zerolinecolor": "white"
           }
          },
          "shapedefaults": {
           "line": {
            "color": "#2a3f5f"
           }
          },
          "ternary": {
           "aaxis": {
            "gridcolor": "white",
            "linecolor": "white",
            "ticks": ""
           },
           "baxis": {
            "gridcolor": "white",
            "linecolor": "white",
            "ticks": ""
           },
           "bgcolor": "#E5ECF6",
           "caxis": {
            "gridcolor": "white",
            "linecolor": "white",
            "ticks": ""
           }
          },
          "title": {
           "x": 0.05
          },
          "xaxis": {
           "automargin": true,
           "gridcolor": "white",
           "linecolor": "white",
           "ticks": "",
           "title": {
            "standoff": 15
           },
           "zerolinecolor": "white",
           "zerolinewidth": 2
          },
          "yaxis": {
           "automargin": true,
           "gridcolor": "white",
           "linecolor": "white",
           "ticks": "",
           "title": {
            "standoff": 15
           },
           "zerolinecolor": "white",
           "zerolinewidth": 2
          }
         }
        },
        "title": {
         "text": "Histogram of Rating"
        },
        "xaxis": {
         "anchor": "y",
         "domain": [
          0,
          1
         ],
         "title": {
          "text": "Rating"
         }
        },
        "yaxis": {
         "anchor": "x",
         "domain": [
          0,
          1
         ],
         "title": {
          "text": "count"
         }
        }
       }
      }
     },
     "metadata": {},
     "output_type": "display_data"
    }
   ],
   "source": [
    "\n",
    "fig = px.histogram(df, x='Rating', nbins=50, title='Histogram of Rating')\n",
    "\n",
    "fig.show()\n"
   ]
  },
  {
   "cell_type": "markdown",
   "metadata": {},
   "source": [
    "#### 2. Feature engineering"
   ]
  },
  {
   "cell_type": "markdown",
   "metadata": {},
   "source": [
    "1. Feature scaling\n",
    "2. Aggregation\n",
    "3. One hot coding"
   ]
  },
  {
   "cell_type": "code",
   "execution_count": 18,
   "metadata": {},
   "outputs": [
    {
     "data": {
      "text/html": [
       "<div>\n",
       "<style scoped>\n",
       "    .dataframe tbody tr th:only-of-type {\n",
       "        vertical-align: middle;\n",
       "    }\n",
       "\n",
       "    .dataframe tbody tr th {\n",
       "        vertical-align: top;\n",
       "    }\n",
       "\n",
       "    .dataframe thead th {\n",
       "        text-align: right;\n",
       "    }\n",
       "</style>\n",
       "<table border=\"1\" class=\"dataframe\">\n",
       "  <thead>\n",
       "    <tr style=\"text-align: right;\">\n",
       "      <th></th>\n",
       "      <th>Name</th>\n",
       "      <th>Rating</th>\n",
       "      <th>Number of Ratings</th>\n",
       "      <th>Longitude</th>\n",
       "      <th>Latitude</th>\n",
       "      <th>neighborhood</th>\n",
       "      <th>restaurant</th>\n",
       "      <th>meal_takeaway</th>\n",
       "      <th>meal_delivery</th>\n",
       "      <th>cafe</th>\n",
       "      <th>food</th>\n",
       "      <th>bakery</th>\n",
       "      <th>Weighted Rating</th>\n",
       "    </tr>\n",
       "  </thead>\n",
       "  <tbody>\n",
       "    <tr>\n",
       "      <th>0</th>\n",
       "      <td>فندق ميرا</td>\n",
       "      <td>3.7</td>\n",
       "      <td>1336.0</td>\n",
       "      <td>46.693985</td>\n",
       "      <td>24.701278</td>\n",
       "      <td>حي الملز</td>\n",
       "      <td>1</td>\n",
       "      <td>0</td>\n",
       "      <td>0</td>\n",
       "      <td>0</td>\n",
       "      <td>1</td>\n",
       "      <td>0</td>\n",
       "      <td>4943.2</td>\n",
       "    </tr>\n",
       "    <tr>\n",
       "      <th>1</th>\n",
       "      <td>مركز ماي كار لصيانة السيارات الاوروبية</td>\n",
       "      <td>3.5</td>\n",
       "      <td>2755.0</td>\n",
       "      <td>46.576437</td>\n",
       "      <td>24.851751</td>\n",
       "      <td>حي الملز</td>\n",
       "      <td>1</td>\n",
       "      <td>0</td>\n",
       "      <td>0</td>\n",
       "      <td>0</td>\n",
       "      <td>1</td>\n",
       "      <td>0</td>\n",
       "      <td>9642.5</td>\n",
       "    </tr>\n",
       "  </tbody>\n",
       "</table>\n",
       "</div>"
      ],
      "text/plain": [
       "                                     Name  Rating  Number of Ratings  \\\n",
       "0                               فندق ميرا     3.7             1336.0   \n",
       "1  مركز ماي كار لصيانة السيارات الاوروبية     3.5             2755.0   \n",
       "\n",
       "   Longitude   Latitude neighborhood  restaurant  meal_takeaway  \\\n",
       "0  46.693985  24.701278     حي الملز           1              0   \n",
       "1  46.576437  24.851751     حي الملز           1              0   \n",
       "\n",
       "   meal_delivery  cafe  food  bakery  Weighted Rating  \n",
       "0              0     0     1       0           4943.2  \n",
       "1              0     0     1       0           9642.5  "
      ]
     },
     "execution_count": 18,
     "metadata": {},
     "output_type": "execute_result"
    }
   ],
   "source": [
    "df.head(2)"
   ]
  },
  {
   "cell_type": "code",
   "execution_count": 19,
   "metadata": {},
   "outputs": [
    {
     "data": {
      "text/plain": [
       "['Name', 'neighborhood']"
      ]
     },
     "execution_count": 19,
     "metadata": {},
     "output_type": "execute_result"
    }
   ],
   "source": [
    "categorical_features"
   ]
  },
  {
   "cell_type": "code",
   "execution_count": 20,
   "metadata": {},
   "outputs": [],
   "source": [
    "# one hot coding\n",
    "df = pd.get_dummies(df, columns=categorical_features)"
   ]
  },
  {
   "cell_type": "code",
   "execution_count": 21,
   "metadata": {},
   "outputs": [
    {
     "data": {
      "text/plain": [
       "(1616, 252)"
      ]
     },
     "execution_count": 21,
     "metadata": {},
     "output_type": "execute_result"
    }
   ],
   "source": [
    "df.shape"
   ]
  },
  {
   "cell_type": "code",
   "execution_count": 22,
   "metadata": {},
   "outputs": [
    {
     "name": "stdout",
     "output_type": "stream",
     "text": [
      "['Rating', 'Number of Ratings', 'Longitude', 'Latitude', 'restaurant', 'meal_takeaway', 'meal_delivery', 'cafe', 'food', 'bakery', 'Weighted Rating', 'Name_Al Dawadhmi', 'Name_Al Jalab Restaurant', 'Name_Al Nafoura Restaurant', 'Name_Al Romansiah', 'Name_Al Romansiah Restaurant - Al Nasseem District', 'Name_Al Saudi Restaurant', 'Name_Al Tazaj', 'Name_Al-Kef Al-Dhahbi Restaurant', 'Name_Al-Saudi Restaurant', 'Name_Al-Tazaj', 'Name_Anab roman restaurant', 'Name_Aziza Al Bukhari Restaurant - best restaurant in town', 'Name_BOOFIAH RESTAURANT', 'Name_Bait Almeena Restaurant', 'Name_Bait ul bokhari', 'Name_Bangladesh restaurant বাংলাদেশ হোটেলে', 'Name_Broast Line', 'Name_Burger King - Al Quds', 'Name_Burger King - Bin Turkey', 'Name_Burger King - Exit 28', 'Name_Burger King - Exit 8 Dammam Rd', 'Name_Burger King - Ghernata', 'Name_Burger King - Rawdah', 'Name_Burger King - Riyadh Gallery 2', 'Name_Burger Roma', 'Name_Burgerizzr', 'Name_Camp Messhall', 'Name_Casa Pasta', 'Name_Cheese Restaurant', 'Name_Chefs Restaurant', 'Name_Deerty Traditional Restaurant', 'Name_Derati Restaurant', 'Name_Derati Restaurants & Kitchens', 'Name_Diet Center - دايت سنتر', 'Name_Dining Hall', \"Name_Domino's Pizza\", 'Name_Dominos', 'Name_FOODILS MALHAM', 'Name_Fairmont Riyadh', 'Name_Falafel Al-Sham', 'Name_Fit bit مطعم', 'Name_Foodils Huraymila', 'Name_Ghadash Restaurant', 'Name_Golden Salamon Restaurant', 'Name_Hamburgini هامبرغيني - As Suwaidi Al Gharabi', 'Name_Hamburgini هامبرغيني - Dhahrat Laban', \"Name_Hardee's\", 'Name_Herfy', 'Name_Indian Valley Restaurant', 'Name_Jamil Al-Bukhari Restaurant', 'Name_Jan Burger - جان برجر\\u200e', 'Name_KFC', 'Name_Kerala hotel', 'Name_Krispy Kreme Najm Ad Din - كرسبي كريم نجم الدين', 'Name_Kudu - Al Malaz', 'Name_Kudu - Al Muzahmiya Mall', 'Name_Kudu - Al Rayyan', 'Name_Kudu - Al Seteen Palace', 'Name_Kudu - Al Wurud', 'Name_Kudu - Duwadimi', 'Name_Kudu - Najm Al Din Al Ayyubi', 'Name_Kudu - Tuwaiq - Riyadh', 'Name_Labiba shawarma', 'Name_Layali Al Sham Restaurant', 'Name_Little Caesars Pizza! Pizza! !ليتل سيزرز بيتزا! بيتزا', 'Name_Lucky Cafe', 'Name_Luthan Hotel and Spa', 'Name_Maestro Pizza', 'Name_Mama Noura', 'Name_Matam Al Bukhari', 'Name_Mazaq Pakistani Hotel', \"Name_McDonald's\", 'Name_Mohamed Elsa Restaurant', 'Name_Najd Village', 'Name_Pakistan Swat Restaurant', 'Name_Pakistani Hotel', 'Name_Pakistani Restaurant مطعم باكستاني', 'Name_Pakistani hotel', 'Name_Peshawari hotel', 'Name_Pigeons Time', 'Name_Pizza Era', 'Name_Pizzaratti AlSuwaidi', 'Name_RKN Pizza & Pastries Sakhna', 'Name_Restaurant', 'Name_Restaurant and Buffet Arabism', 'Name_Restaurant kofta Shawarma Grill and Broasted pizza and inspiring Fatayer', 'Name_Romansiah', 'Name_Rukn Assidah Mandi Restaurant', 'Name_Shawarmer | شاورمر', 'Name_Sheikh Al-Mandi Restaurant', 'Name_Subway', 'Name_Sushi Yoshi', 'Name_Sweets & Bakeries Harimlae', 'Name_TO BE FIT مطعم صحي', 'Name_TOKYO', 'Name_Wooden Bakery', 'Name_abu jbara restaurant', 'Name_calm pigeons restaurant', 'Name_watani restaurant', 'Name_أسرع مقلوبة', 'Name_ألذ كنافه', 'Name_الشيخ محمد الحاتم ابوعادل', 'Name_بخاري', 'Name_برجر كاسل', 'Name_برقر كارني', 'Name_بوفية ابو عنتر', 'Name_بوفية اسماء العتيبي', 'Name_بوفية الاريج', 'Name_بوفية البكري', 'Name_بوفية الرفقة', 'Name_بوفية السلاطين', 'Name_بوفية الشباب', 'Name_بوفية حياة عدن لتقديم الوجبات السريعة', 'Name_بوفية خفايف', 'Name_بوفية ركن السحاب', 'Name_بوفية ركن هلا', 'Name_بوفية سماء المذاق الراقي', 'Name_بوفية شطيرة سريعة', 'Name_بوفية شعبيات العسلي', 'Name_بوفية فول فلافل لتقديم الوجبات', 'Name_بوفية كبده طازج', 'Name_بوفيه', 'Name_بوفيه ارض الجنتين', 'Name_بوفيه السلاطين', 'Name_بوفيه الهناء \" يقدم مطبق\"', 'Name_بوفيه توت وعنب', 'Name_بوفيه خبزه وحمسات', 'Name_بوفيه زمزم', 'Name_بوفيه زنجر', 'Name_بوفيه وجبات سريعة', 'Name_بوفيهات المثالي', 'Name_بيتزا الأصايل', 'Name_بيتزا الاسطورة', 'Name_بيتزا كونا', 'Name_تشيكن فرايز فود ترك', 'Name_توت نجد للخضار والفواكه', 'Name_توم توم | TOM TOM', 'Name_جنيه الذهبي', 'Name_حلاالطازج للعصائر', 'Name_حلويات مذاق الحلا', 'Name_ركن الفرن الساخن', 'Name_ركن الكنافة', 'Name_ريوق شاي', 'Name_سربستوني', 'Name_سلسلة مطاعم محمد شوقي', 'Name_شاورما عالفحم', 'Name_شكوكلاته الذائبة', 'Name_عصيرات جنه الفواكه', 'Name_فطائر وصايه', 'Name_فلافل نون', 'Name_فندق ميرا', 'Name_فوال الخرطوم', 'Name_فوال الطائف', 'Name_فوال ايام زمان', 'Name_فوال صباح الخير', 'Name_فوال و مطبق نورة', 'Name_فوال ومخبز', 'Name_قصر العصيرات', 'Name_قصر الهند', 'Name_كاتشي لاونج', 'Name_كوب الذرة', 'Name_لذة محشي', 'Name_لقيمات ماجد', 'Name_لقيمات مذهلة', 'Name_للوجبات السريعة فرع ملهم', 'Name_محارة الخليج Zinker King', 'Name_محطة العمودي', 'Name_محل لذيذ للايسكريم', 'Name_مخيم افطارصايم جمعيه عروي الخيريه', 'Name_مذاق الحمام', 'Name_مذاق الدجاج للوجبات السريعة', 'Name_مركز ماي كار لصيانة السيارات الاوروبية', 'Name_مطاعم البستان البخاري فرع الوحيد في الدوادمي', 'Name_مطاعم قلعة الفرسان لتقديم الوجبات', 'Name_مطاعم ومطابخ الفرسان', 'Name_مطاعم ومطابخ الكوخ المندي', 'Name_مطاعم ومطابخ المذاق المثلوثه', 'Name_مطافي وجبات سريعة', 'Name_مطبخ سنام الحديث', 'Name_مطعم 22', 'Name_مطعم أحمد', 'Name_مطعم البخاري الباكستاني', 'Name_مطعم البراك', 'Name_مطعم الحديقة', 'Name_مطعم الحنيذ المختص', 'Name_مطعم السحاب', 'Name_مطعم السلطان Alsultan restaurant', 'Name_مطعم الهاجري', 'Name_مطعم بخاري', 'Name_مطعم حصن الجنوب البخاري', 'Name_مطعم ديرة الغذاء', 'Name_مطعم ريف الشاورما', 'Name_مطعم سما دبي', 'Name_مطعم عالم الطهاة', 'Name_مطعم فامبا', 'Name_مطعم فلافل العرض', 'Name_مطعم قارب البحار للمأكولات البحرية', 'Name_مطعم قرص وسمن', 'Name_مطعم كبده تمام', 'Name_مطعم كشمير البخاري', 'Name_مطعم كوزين', 'Name_مطعم لذيذ وشواية لتقديم الوجبات', 'Name_مطعم معصوب ملكي', 'Name_مطعم نخبة الصفوة للأكلات الشعبية', 'Name_مطعم ندى مطلق العتيبي', 'Name_مطعم نيوم', 'Name_مطعم هيفان', 'Name_مطعم ومشويات تراث حلب', 'Name_معصوب الراقي', 'Name_معصوب الفرسان', 'Name_مقرمشات فيصل دعكيك', 'Name_مقصف ام سعد', 'Name_نولا بيتزاريا Nola Pizzeria', 'Name_وايت قاردن', 'neighborhood_حي الأندلس', 'neighborhood_حي الحزم', 'neighborhood_حي الحمراء', 'neighborhood_حي الخليج', 'neighborhood_حي الربوة', 'neighborhood_حي الزدهار', 'neighborhood_حي السليمانية', 'neighborhood_حي الصحافة', 'neighborhood_حي الصفا', 'neighborhood_حي العارض', 'neighborhood_حي العليا', 'neighborhood_حي القدس', 'neighborhood_حي القيروان', 'neighborhood_حي المرسلات', 'neighborhood_حي الملز', 'neighborhood_حي الملقا', 'neighborhood_حي الندى', 'neighborhood_حي النرجس', 'neighborhood_حي النهضة', 'neighborhood_حي الوزارات', 'neighborhood_حي الياسمين', 'neighborhood_حي جرير', 'neighborhood_حي حطين', 'neighborhood_حي ديراب', 'neighborhood_حي ظهرة نمار', 'neighborhood_حي نمار', 'neighborhood_هجرة وادي لبن']\n"
     ]
    }
   ],
   "source": [
    "print(df.columns.tolist()) \n"
   ]
  },
  {
   "cell_type": "code",
   "execution_count": 23,
   "metadata": {},
   "outputs": [
    {
     "data": {
      "text/html": [
       "<div>\n",
       "<style scoped>\n",
       "    .dataframe tbody tr th:only-of-type {\n",
       "        vertical-align: middle;\n",
       "    }\n",
       "\n",
       "    .dataframe tbody tr th {\n",
       "        vertical-align: top;\n",
       "    }\n",
       "\n",
       "    .dataframe thead th {\n",
       "        text-align: right;\n",
       "    }\n",
       "</style>\n",
       "<table border=\"1\" class=\"dataframe\">\n",
       "  <thead>\n",
       "    <tr style=\"text-align: right;\">\n",
       "      <th></th>\n",
       "      <th>Rating</th>\n",
       "      <th>Number of Ratings</th>\n",
       "      <th>Longitude</th>\n",
       "      <th>Latitude</th>\n",
       "      <th>restaurant</th>\n",
       "      <th>meal_takeaway</th>\n",
       "      <th>meal_delivery</th>\n",
       "      <th>cafe</th>\n",
       "      <th>food</th>\n",
       "      <th>bakery</th>\n",
       "      <th>...</th>\n",
       "      <th>neighborhood_حي النرجس</th>\n",
       "      <th>neighborhood_حي النهضة</th>\n",
       "      <th>neighborhood_حي الوزارات</th>\n",
       "      <th>neighborhood_حي الياسمين</th>\n",
       "      <th>neighborhood_حي جرير</th>\n",
       "      <th>neighborhood_حي حطين</th>\n",
       "      <th>neighborhood_حي ديراب</th>\n",
       "      <th>neighborhood_حي ظهرة نمار</th>\n",
       "      <th>neighborhood_حي نمار</th>\n",
       "      <th>neighborhood_هجرة وادي لبن</th>\n",
       "    </tr>\n",
       "  </thead>\n",
       "  <tbody>\n",
       "    <tr>\n",
       "      <th>0</th>\n",
       "      <td>3.7</td>\n",
       "      <td>1336.0</td>\n",
       "      <td>46.693985</td>\n",
       "      <td>24.701278</td>\n",
       "      <td>1</td>\n",
       "      <td>0</td>\n",
       "      <td>0</td>\n",
       "      <td>0</td>\n",
       "      <td>1</td>\n",
       "      <td>0</td>\n",
       "      <td>...</td>\n",
       "      <td>False</td>\n",
       "      <td>False</td>\n",
       "      <td>False</td>\n",
       "      <td>False</td>\n",
       "      <td>False</td>\n",
       "      <td>False</td>\n",
       "      <td>False</td>\n",
       "      <td>False</td>\n",
       "      <td>False</td>\n",
       "      <td>False</td>\n",
       "    </tr>\n",
       "    <tr>\n",
       "      <th>1</th>\n",
       "      <td>3.5</td>\n",
       "      <td>2755.0</td>\n",
       "      <td>46.576437</td>\n",
       "      <td>24.851751</td>\n",
       "      <td>1</td>\n",
       "      <td>0</td>\n",
       "      <td>0</td>\n",
       "      <td>0</td>\n",
       "      <td>1</td>\n",
       "      <td>0</td>\n",
       "      <td>...</td>\n",
       "      <td>False</td>\n",
       "      <td>False</td>\n",
       "      <td>False</td>\n",
       "      <td>False</td>\n",
       "      <td>False</td>\n",
       "      <td>False</td>\n",
       "      <td>False</td>\n",
       "      <td>False</td>\n",
       "      <td>False</td>\n",
       "      <td>False</td>\n",
       "    </tr>\n",
       "  </tbody>\n",
       "</table>\n",
       "<p>2 rows × 252 columns</p>\n",
       "</div>"
      ],
      "text/plain": [
       "   Rating  Number of Ratings  Longitude   Latitude  restaurant  meal_takeaway  \\\n",
       "0     3.7             1336.0  46.693985  24.701278           1              0   \n",
       "1     3.5             2755.0  46.576437  24.851751           1              0   \n",
       "\n",
       "   meal_delivery  cafe  food  bakery  ...  neighborhood_حي النرجس  \\\n",
       "0              0     0     1       0  ...                   False   \n",
       "1              0     0     1       0  ...                   False   \n",
       "\n",
       "   neighborhood_حي النهضة  neighborhood_حي الوزارات  neighborhood_حي الياسمين  \\\n",
       "0                   False                     False                     False   \n",
       "1                   False                     False                     False   \n",
       "\n",
       "   neighborhood_حي جرير  neighborhood_حي حطين  neighborhood_حي ديراب  \\\n",
       "0                 False                 False                  False   \n",
       "1                 False                 False                  False   \n",
       "\n",
       "   neighborhood_حي ظهرة نمار  neighborhood_حي نمار  neighborhood_هجرة وادي لبن  \n",
       "0                      False                 False                       False  \n",
       "1                      False                 False                       False  \n",
       "\n",
       "[2 rows x 252 columns]"
      ]
     },
     "execution_count": 23,
     "metadata": {},
     "output_type": "execute_result"
    }
   ],
   "source": [
    "df.head(2)"
   ]
  },
  {
   "cell_type": "markdown",
   "metadata": {},
   "source": [
    "# FOR K-MEANS"
   ]
  },
  {
   "cell_type": "code",
   "execution_count": 24,
   "metadata": {},
   "outputs": [
    {
     "name": "stdout",
     "output_type": "stream",
     "text": [
      "Rating_category\n",
      "medium    1457\n",
      "bad         94\n",
      "good        65\n",
      "Name: count, dtype: int64\n"
     ]
    }
   ],
   "source": [
    "# Calculate the 35th and 75th percentiles of the Rating\n",
    "p35 = df['Rating'].quantile(0.35)\n",
    "p75 = df['Rating'].quantile(0.75)\n",
    "\n",
    "# Function to categorize Ratings\n",
    "def categorize_Rating(Rating):\n",
    "    if Rating > 4.3:\n",
    "        return 'good'\n",
    "    elif Rating > 3.3:\n",
    "        return 'medium'\n",
    "    else:\n",
    "        return 'bad'\n",
    "\n",
    "# Apply the function to create a new column\n",
    "df['Rating_category'] = df['Rating'].apply(categorize_Rating)\n",
    "\n",
    "# Verify the distribution of the new categories\n",
    "print(df['Rating_category'].value_counts())\n",
    "\n",
    "# Optionally, drop the original 'Rating' column\n",
    "df.drop('Rating', axis=1, inplace=True)\n"
   ]
  },
  {
   "cell_type": "code",
   "execution_count": 25,
   "metadata": {},
   "outputs": [
    {
     "data": {
      "text/plain": [
       "(3.7, 4.0)"
      ]
     },
     "execution_count": 25,
     "metadata": {},
     "output_type": "execute_result"
    }
   ],
   "source": [
    "p35 ,p75"
   ]
  },
  {
   "cell_type": "code",
   "execution_count": 26,
   "metadata": {},
   "outputs": [
    {
     "data": {
      "text/plain": [
       "0       medium\n",
       "1       medium\n",
       "2       medium\n",
       "3          bad\n",
       "4       medium\n",
       "         ...  \n",
       "1611    medium\n",
       "1612    medium\n",
       "1613    medium\n",
       "1614    medium\n",
       "1615    medium\n",
       "Name: Rating_category, Length: 1616, dtype: object"
      ]
     },
     "execution_count": 26,
     "metadata": {},
     "output_type": "execute_result"
    }
   ],
   "source": [
    "df['Rating_category'] "
   ]
  },
  {
   "cell_type": "code",
   "execution_count": 27,
   "metadata": {},
   "outputs": [],
   "source": [
    "encoder = LabelEncoder()\n",
    "#pcvc_encoded == players current value category encoded\n",
    "df['Rating_category_encoder'] = encoder.fit_transform(df['Rating_category'])  "
   ]
  },
  {
   "cell_type": "markdown",
   "metadata": {},
   "source": [
    "#### 3. Feature selection"
   ]
  },
  {
   "cell_type": "code",
   "execution_count": 28,
   "metadata": {},
   "outputs": [],
   "source": [
    "df.drop('Rating_category',axis=1,inplace=True)"
   ]
  },
  {
   "cell_type": "code",
   "execution_count": 29,
   "metadata": {},
   "outputs": [
    {
     "name": "stdout",
     "output_type": "stream",
     "text": [
      "Rating_category_encoder       1.000000\n",
      "Longitude                     0.236563\n",
      "Latitude                      0.168238\n",
      "Number of Ratings             0.158519\n",
      "Weighted Rating               0.150022\n",
      "                                ...   \n",
      "Name_Hardee's                -0.443406\n",
      "Name_Al Nafoura Restaurant   -0.444449\n",
      "Name_Dining Hall             -0.454151\n",
      "restaurant                         NaN\n",
      "food                               NaN\n",
      "Name: Rating_category_encoder, Length: 252, dtype: float64\n"
     ]
    }
   ],
   "source": [
    "corrl = df.corr(numeric_only=True)\n",
    "#print(corrl['current_value'].sort_values(ascending=False))\n",
    "\n",
    "print(corrl['Rating_category_encoder'].sort_values(ascending=False))"
   ]
  },
  {
   "cell_type": "code",
   "execution_count": 30,
   "metadata": {},
   "outputs": [
    {
     "data": {
      "text/plain": [
       "Index(['Number of Ratings', 'Longitude', 'Latitude', 'meal_delivery',\n",
       "       'Weighted Rating', 'Name_Al Nafoura Restaurant', 'Name_Dining Hall',\n",
       "       'Name_Fairmont Riyadh', 'Name_Hardee's', 'neighborhood_حي السليمانية',\n",
       "       'neighborhood_حي النهضة', 'Rating_category_encoder'],\n",
       "      dtype='object')"
      ]
     },
     "execution_count": 30,
     "metadata": {},
     "output_type": "execute_result"
    }
   ],
   "source": [
    "# Set the correlation threshold\n",
    "threshold = 0.12\n",
    "\n",
    "# Filter the correlations\n",
    "# We use `abs()` for absolute value to consider both strong positive and negative correlations\n",
    "selected_features = corrl[abs(corrl['Rating_category_encoder']) > threshold]['Rating_category_encoder'].index\n",
    "selected_features"
   ]
  },
  {
   "cell_type": "code",
   "execution_count": 31,
   "metadata": {},
   "outputs": [],
   "source": [
    "selected_features = ['Number of Ratings', 'Longitude', 'Latitude', 'meal_delivery',\n",
    "       'Weighted Rating', 'Name_Al Nafoura Restaurant', 'Name_Dining Hall',\n",
    "       'Name_Fairmont Riyadh', \"Name_Hardee's\", 'neighborhood_حي السليمانية',\n",
    "       'neighborhood_حي النهضة', 'Rating_category_encoder']"
   ]
  },
  {
   "cell_type": "code",
   "execution_count": 32,
   "metadata": {},
   "outputs": [
    {
     "data": {
      "text/html": [
       "<div>\n",
       "<style scoped>\n",
       "    .dataframe tbody tr th:only-of-type {\n",
       "        vertical-align: middle;\n",
       "    }\n",
       "\n",
       "    .dataframe tbody tr th {\n",
       "        vertical-align: top;\n",
       "    }\n",
       "\n",
       "    .dataframe thead th {\n",
       "        text-align: right;\n",
       "    }\n",
       "</style>\n",
       "<table border=\"1\" class=\"dataframe\">\n",
       "  <thead>\n",
       "    <tr style=\"text-align: right;\">\n",
       "      <th></th>\n",
       "      <th>Number of Ratings</th>\n",
       "      <th>Longitude</th>\n",
       "      <th>Latitude</th>\n",
       "      <th>meal_delivery</th>\n",
       "      <th>Weighted Rating</th>\n",
       "      <th>Name_Al Nafoura Restaurant</th>\n",
       "      <th>Name_Dining Hall</th>\n",
       "      <th>Name_Fairmont Riyadh</th>\n",
       "      <th>Name_Hardee's</th>\n",
       "      <th>neighborhood_حي السليمانية</th>\n",
       "      <th>neighborhood_حي النهضة</th>\n",
       "      <th>Rating_category_encoder</th>\n",
       "    </tr>\n",
       "  </thead>\n",
       "  <tbody>\n",
       "    <tr>\n",
       "      <th>0</th>\n",
       "      <td>1336.0</td>\n",
       "      <td>46.693985</td>\n",
       "      <td>24.701278</td>\n",
       "      <td>0</td>\n",
       "      <td>4943.2</td>\n",
       "      <td>False</td>\n",
       "      <td>False</td>\n",
       "      <td>False</td>\n",
       "      <td>False</td>\n",
       "      <td>False</td>\n",
       "      <td>False</td>\n",
       "      <td>2</td>\n",
       "    </tr>\n",
       "    <tr>\n",
       "      <th>1</th>\n",
       "      <td>2755.0</td>\n",
       "      <td>46.576437</td>\n",
       "      <td>24.851751</td>\n",
       "      <td>0</td>\n",
       "      <td>9642.5</td>\n",
       "      <td>False</td>\n",
       "      <td>False</td>\n",
       "      <td>False</td>\n",
       "      <td>False</td>\n",
       "      <td>False</td>\n",
       "      <td>False</td>\n",
       "      <td>2</td>\n",
       "    </tr>\n",
       "    <tr>\n",
       "      <th>2</th>\n",
       "      <td>423.0</td>\n",
       "      <td>46.641709</td>\n",
       "      <td>24.706649</td>\n",
       "      <td>0</td>\n",
       "      <td>1692.0</td>\n",
       "      <td>False</td>\n",
       "      <td>False</td>\n",
       "      <td>False</td>\n",
       "      <td>False</td>\n",
       "      <td>False</td>\n",
       "      <td>False</td>\n",
       "      <td>2</td>\n",
       "    </tr>\n",
       "    <tr>\n",
       "      <th>3</th>\n",
       "      <td>27.0</td>\n",
       "      <td>46.619655</td>\n",
       "      <td>24.720989</td>\n",
       "      <td>0</td>\n",
       "      <td>81.0</td>\n",
       "      <td>False</td>\n",
       "      <td>True</td>\n",
       "      <td>False</td>\n",
       "      <td>False</td>\n",
       "      <td>False</td>\n",
       "      <td>False</td>\n",
       "      <td>0</td>\n",
       "    </tr>\n",
       "    <tr>\n",
       "      <th>4</th>\n",
       "      <td>1721.0</td>\n",
       "      <td>46.706125</td>\n",
       "      <td>24.704821</td>\n",
       "      <td>0</td>\n",
       "      <td>6884.0</td>\n",
       "      <td>False</td>\n",
       "      <td>False</td>\n",
       "      <td>False</td>\n",
       "      <td>False</td>\n",
       "      <td>False</td>\n",
       "      <td>False</td>\n",
       "      <td>2</td>\n",
       "    </tr>\n",
       "  </tbody>\n",
       "</table>\n",
       "</div>"
      ],
      "text/plain": [
       "   Number of Ratings  Longitude   Latitude  meal_delivery  Weighted Rating  \\\n",
       "0             1336.0  46.693985  24.701278              0           4943.2   \n",
       "1             2755.0  46.576437  24.851751              0           9642.5   \n",
       "2              423.0  46.641709  24.706649              0           1692.0   \n",
       "3               27.0  46.619655  24.720989              0             81.0   \n",
       "4             1721.0  46.706125  24.704821              0           6884.0   \n",
       "\n",
       "   Name_Al Nafoura Restaurant  Name_Dining Hall  Name_Fairmont Riyadh  \\\n",
       "0                       False             False                 False   \n",
       "1                       False             False                 False   \n",
       "2                       False             False                 False   \n",
       "3                       False              True                 False   \n",
       "4                       False             False                 False   \n",
       "\n",
       "   Name_Hardee's  neighborhood_حي السليمانية  neighborhood_حي النهضة  \\\n",
       "0          False                       False                   False   \n",
       "1          False                       False                   False   \n",
       "2          False                       False                   False   \n",
       "3          False                       False                   False   \n",
       "4          False                       False                   False   \n",
       "\n",
       "   Rating_category_encoder  \n",
       "0                        2  \n",
       "1                        2  \n",
       "2                        2  \n",
       "3                        0  \n",
       "4                        2  "
      ]
     },
     "execution_count": 32,
     "metadata": {},
     "output_type": "execute_result"
    }
   ],
   "source": [
    "df = df[selected_features]\n",
    "df.head()"
   ]
  },
  {
   "cell_type": "markdown",
   "metadata": {},
   "source": [
    "#### 4. Prepare train and test data"
   ]
  },
  {
   "cell_type": "code",
   "execution_count": 33,
   "metadata": {},
   "outputs": [],
   "source": [
    "# Prepare data\n",
    "X = df.drop(['Rating_category_encoder'], axis=1)\n",
    "\n",
    "\n",
    "# sacle the data\n",
    "scaler = StandardScaler()\n",
    "X_scaled = scaler.fit_transform(X)"
   ]
  },
  {
   "cell_type": "code",
   "execution_count": 34,
   "metadata": {},
   "outputs": [
    {
     "data": {
      "text/plain": [
       "(1616, 11)"
      ]
     },
     "execution_count": 34,
     "metadata": {},
     "output_type": "execute_result"
    }
   ],
   "source": [
    "X.shape"
   ]
  },
  {
   "cell_type": "markdown",
   "metadata": {},
   "source": [
    "## Buliding the Model"
   ]
  },
  {
   "cell_type": "code",
   "execution_count": 35,
   "metadata": {},
   "outputs": [],
   "source": [
    "wcss = []\n",
    "for i in range(1, 30):  \n",
    "    kmeans = KMeans(n_clusters=i,\n",
    "                    init='k-means++',\n",
    "                    max_iter=300,\n",
    "                    n_init=10,\n",
    "                    random_state=0)\n",
    "    kmeans.fit(X_scaled)\n",
    "    wcss.append(kmeans.inertia_)  # inertia_ is the WCSS\n"
   ]
  },
  {
   "cell_type": "code",
   "execution_count": 36,
   "metadata": {},
   "outputs": [
    {
     "data": {
      "image/png": "[encoded data removed]",
      "text/plain": [
       "<Figure size 1000x600 with 1 Axes>"
      ]
     },
     "metadata": {},
     "output_type": "display_data"
    }
   ],
   "source": [
    "# 3. Plot the Elbow Curve\n",
    "plt.figure(figsize=(10, 6))\n",
    "plt.plot(range(1, 30), wcss,  marker='o', linestyle='-', color='b')\n",
    "plt.title('Elbow Method')\n",
    "plt.xlabel('Number of clusters')\n",
    "plt.ylabel('WCSS')\n",
    "plt.grid(True)\n",
    "plt.show()"
   ]
  },
  {
   "cell_type": "code",
   "execution_count": 37,
   "metadata": {},
   "outputs": [],
   "source": [
    "# Optional: Apply k-Means using the optimal number of clusters\n",
    "optimal_clusters = 8 # This might change based on your actual elbow curve analysis\n",
    "model = KMeans(n_clusters=optimal_clusters, init='k-means++', max_iter=300, n_init=10, random_state=0)"
   ]
  },
  {
   "cell_type": "markdown",
   "metadata": {},
   "source": [
    "## Train and Test the Model"
   ]
  },
  {
   "cell_type": "code",
   "execution_count": 38,
   "metadata": {},
   "outputs": [],
   "source": [
    "# Fit the model on the training data\n",
    "y_pred = model.fit_predict(X_scaled)"
   ]
  },
  {
   "cell_type": "markdown",
   "metadata": {},
   "source": [
    "## Evaluating the Model "
   ]
  },
  {
   "cell_type": "code",
   "execution_count": 39,
   "metadata": {},
   "outputs": [
    {
     "data": {
      "text/html": [
       "<div>\n",
       "<style scoped>\n",
       "    .dataframe tbody tr th:only-of-type {\n",
       "        vertical-align: middle;\n",
       "    }\n",
       "\n",
       "    .dataframe tbody tr th {\n",
       "        vertical-align: top;\n",
       "    }\n",
       "\n",
       "    .dataframe thead th {\n",
       "        text-align: right;\n",
       "    }\n",
       "</style>\n",
       "<table border=\"1\" class=\"dataframe\">\n",
       "  <thead>\n",
       "    <tr style=\"text-align: right;\">\n",
       "      <th></th>\n",
       "      <th>Number of Ratings</th>\n",
       "      <th>Longitude</th>\n",
       "      <th>Latitude</th>\n",
       "      <th>meal_delivery</th>\n",
       "      <th>Weighted Rating</th>\n",
       "      <th>Name_Al Nafoura Restaurant</th>\n",
       "      <th>Name_Dining Hall</th>\n",
       "      <th>Name_Fairmont Riyadh</th>\n",
       "      <th>Name_Hardee's</th>\n",
       "      <th>neighborhood_حي السليمانية</th>\n",
       "      <th>neighborhood_حي النهضة</th>\n",
       "    </tr>\n",
       "  </thead>\n",
       "  <tbody>\n",
       "    <tr>\n",
       "      <th>0</th>\n",
       "      <td>1336.0</td>\n",
       "      <td>46.693985</td>\n",
       "      <td>24.701278</td>\n",
       "      <td>0</td>\n",
       "      <td>4943.2</td>\n",
       "      <td>False</td>\n",
       "      <td>False</td>\n",
       "      <td>False</td>\n",
       "      <td>False</td>\n",
       "      <td>False</td>\n",
       "      <td>False</td>\n",
       "    </tr>\n",
       "    <tr>\n",
       "      <th>1</th>\n",
       "      <td>2755.0</td>\n",
       "      <td>46.576437</td>\n",
       "      <td>24.851751</td>\n",
       "      <td>0</td>\n",
       "      <td>9642.5</td>\n",
       "      <td>False</td>\n",
       "      <td>False</td>\n",
       "      <td>False</td>\n",
       "      <td>False</td>\n",
       "      <td>False</td>\n",
       "      <td>False</td>\n",
       "    </tr>\n",
       "  </tbody>\n",
       "</table>\n",
       "</div>"
      ],
      "text/plain": [
       "   Number of Ratings  Longitude   Latitude  meal_delivery  Weighted Rating  \\\n",
       "0             1336.0  46.693985  24.701278              0           4943.2   \n",
       "1             2755.0  46.576437  24.851751              0           9642.5   \n",
       "\n",
       "   Name_Al Nafoura Restaurant  Name_Dining Hall  Name_Fairmont Riyadh  \\\n",
       "0                       False             False                 False   \n",
       "1                       False             False                 False   \n",
       "\n",
       "   Name_Hardee's  neighborhood_حي السليمانية  neighborhood_حي النهضة  \n",
       "0          False                       False                   False  \n",
       "1          False                       False                   False  "
      ]
     },
     "execution_count": 39,
     "metadata": {},
     "output_type": "execute_result"
    }
   ],
   "source": [
    "X.head(2)"
   ]
  },
  {
   "cell_type": "code",
   "execution_count": 40,
   "metadata": {},
   "outputs": [
    {
     "data": {
      "image/png": "[encoded data removed]",
      "text/plain": [
       "<Figure size 640x480 with 1 Axes>"
      ]
     },
     "metadata": {},
     "output_type": "display_data"
    }
   ],
   "source": [
    "# Plotting the clusters with optimal number\n",
    "plt.scatter(X_scaled[:, 2], X_scaled[:, 3], c=y_pred, s=50, cmap='viridis')\n",
    "\n",
    "centers = model.cluster_centers_\n",
    "plt.scatter(centers[:, 2], centers[:, 3], c='red', s=200, alpha=0.75, marker='X')\n",
    "plt.title(f'K-Means Clustering with {optimal_clusters} Clusters')\n",
    "plt.xlabel('Feature 1')\n",
    "plt.ylabel('Feature 2')\n",
    "plt.show()"
   ]
  },
  {
   "cell_type": "code",
   "execution_count": 41,
   "metadata": {},
   "outputs": [],
   "source": [
    "X['kmeans'] = y_pred"
   ]
  },
  {
   "cell_type": "code",
   "execution_count": 42,
   "metadata": {},
   "outputs": [
    {
     "data": {
      "text/plain": [
       "kmeans\n",
       "0    995\n",
       "3    225\n",
       "7    224\n",
       "2     54\n",
       "1     52\n",
       "4     24\n",
       "5     23\n",
       "6     19\n",
       "Name: count, dtype: int64"
      ]
     },
     "execution_count": 42,
     "metadata": {},
     "output_type": "execute_result"
    }
   ],
   "source": [
    "X['kmeans'].value_counts()"
   ]
  },
  {
   "cell_type": "code",
   "execution_count": 43,
   "metadata": {},
   "outputs": [
    {
     "data": {
      "text/html": [
       "<div>\n",
       "<style scoped>\n",
       "    .dataframe tbody tr th:only-of-type {\n",
       "        vertical-align: middle;\n",
       "    }\n",
       "\n",
       "    .dataframe tbody tr th {\n",
       "        vertical-align: top;\n",
       "    }\n",
       "\n",
       "    .dataframe thead th {\n",
       "        text-align: right;\n",
       "    }\n",
       "</style>\n",
       "<table border=\"1\" class=\"dataframe\">\n",
       "  <thead>\n",
       "    <tr style=\"text-align: right;\">\n",
       "      <th></th>\n",
       "      <th>Number of Ratings</th>\n",
       "      <th>Longitude</th>\n",
       "      <th>Latitude</th>\n",
       "      <th>meal_delivery</th>\n",
       "      <th>Weighted Rating</th>\n",
       "      <th>Name_Al Nafoura Restaurant</th>\n",
       "      <th>Name_Dining Hall</th>\n",
       "      <th>Name_Fairmont Riyadh</th>\n",
       "      <th>Name_Hardee's</th>\n",
       "      <th>neighborhood_حي السليمانية</th>\n",
       "      <th>neighborhood_حي النهضة</th>\n",
       "      <th>kmeans</th>\n",
       "    </tr>\n",
       "  </thead>\n",
       "  <tbody>\n",
       "    <tr>\n",
       "      <th>0</th>\n",
       "      <td>1336.0</td>\n",
       "      <td>46.693985</td>\n",
       "      <td>24.701278</td>\n",
       "      <td>0</td>\n",
       "      <td>4943.2</td>\n",
       "      <td>False</td>\n",
       "      <td>False</td>\n",
       "      <td>False</td>\n",
       "      <td>False</td>\n",
       "      <td>False</td>\n",
       "      <td>False</td>\n",
       "      <td>0</td>\n",
       "    </tr>\n",
       "    <tr>\n",
       "      <th>1</th>\n",
       "      <td>2755.0</td>\n",
       "      <td>46.576437</td>\n",
       "      <td>24.851751</td>\n",
       "      <td>0</td>\n",
       "      <td>9642.5</td>\n",
       "      <td>False</td>\n",
       "      <td>False</td>\n",
       "      <td>False</td>\n",
       "      <td>False</td>\n",
       "      <td>False</td>\n",
       "      <td>False</td>\n",
       "      <td>0</td>\n",
       "    </tr>\n",
       "    <tr>\n",
       "      <th>2</th>\n",
       "      <td>423.0</td>\n",
       "      <td>46.641709</td>\n",
       "      <td>24.706649</td>\n",
       "      <td>0</td>\n",
       "      <td>1692.0</td>\n",
       "      <td>False</td>\n",
       "      <td>False</td>\n",
       "      <td>False</td>\n",
       "      <td>False</td>\n",
       "      <td>False</td>\n",
       "      <td>False</td>\n",
       "      <td>0</td>\n",
       "    </tr>\n",
       "    <tr>\n",
       "      <th>4</th>\n",
       "      <td>1721.0</td>\n",
       "      <td>46.706125</td>\n",
       "      <td>24.704821</td>\n",
       "      <td>0</td>\n",
       "      <td>6884.0</td>\n",
       "      <td>False</td>\n",
       "      <td>False</td>\n",
       "      <td>False</td>\n",
       "      <td>False</td>\n",
       "      <td>False</td>\n",
       "      <td>False</td>\n",
       "      <td>0</td>\n",
       "    </tr>\n",
       "    <tr>\n",
       "      <th>8</th>\n",
       "      <td>2198.0</td>\n",
       "      <td>46.737091</td>\n",
       "      <td>24.595064</td>\n",
       "      <td>0</td>\n",
       "      <td>8132.6</td>\n",
       "      <td>False</td>\n",
       "      <td>False</td>\n",
       "      <td>False</td>\n",
       "      <td>False</td>\n",
       "      <td>False</td>\n",
       "      <td>False</td>\n",
       "      <td>0</td>\n",
       "    </tr>\n",
       "    <tr>\n",
       "      <th>...</th>\n",
       "      <td>...</td>\n",
       "      <td>...</td>\n",
       "      <td>...</td>\n",
       "      <td>...</td>\n",
       "      <td>...</td>\n",
       "      <td>...</td>\n",
       "      <td>...</td>\n",
       "      <td>...</td>\n",
       "      <td>...</td>\n",
       "      <td>...</td>\n",
       "      <td>...</td>\n",
       "      <td>...</td>\n",
       "    </tr>\n",
       "    <tr>\n",
       "      <th>1610</th>\n",
       "      <td>872.0</td>\n",
       "      <td>46.750084</td>\n",
       "      <td>24.779546</td>\n",
       "      <td>0</td>\n",
       "      <td>3139.2</td>\n",
       "      <td>False</td>\n",
       "      <td>False</td>\n",
       "      <td>False</td>\n",
       "      <td>False</td>\n",
       "      <td>False</td>\n",
       "      <td>False</td>\n",
       "      <td>0</td>\n",
       "    </tr>\n",
       "    <tr>\n",
       "      <th>1612</th>\n",
       "      <td>1081.0</td>\n",
       "      <td>46.797511</td>\n",
       "      <td>24.780961</td>\n",
       "      <td>0</td>\n",
       "      <td>4107.8</td>\n",
       "      <td>False</td>\n",
       "      <td>False</td>\n",
       "      <td>False</td>\n",
       "      <td>False</td>\n",
       "      <td>False</td>\n",
       "      <td>False</td>\n",
       "      <td>0</td>\n",
       "    </tr>\n",
       "    <tr>\n",
       "      <th>1613</th>\n",
       "      <td>1825.0</td>\n",
       "      <td>46.764410</td>\n",
       "      <td>24.732753</td>\n",
       "      <td>0</td>\n",
       "      <td>6387.5</td>\n",
       "      <td>False</td>\n",
       "      <td>False</td>\n",
       "      <td>False</td>\n",
       "      <td>False</td>\n",
       "      <td>False</td>\n",
       "      <td>False</td>\n",
       "      <td>0</td>\n",
       "    </tr>\n",
       "    <tr>\n",
       "      <th>1614</th>\n",
       "      <td>1370.0</td>\n",
       "      <td>46.762265</td>\n",
       "      <td>24.735643</td>\n",
       "      <td>0</td>\n",
       "      <td>5069.0</td>\n",
       "      <td>False</td>\n",
       "      <td>False</td>\n",
       "      <td>False</td>\n",
       "      <td>False</td>\n",
       "      <td>False</td>\n",
       "      <td>False</td>\n",
       "      <td>0</td>\n",
       "    </tr>\n",
       "    <tr>\n",
       "      <th>1615</th>\n",
       "      <td>2246.0</td>\n",
       "      <td>46.664761</td>\n",
       "      <td>24.704578</td>\n",
       "      <td>0</td>\n",
       "      <td>8534.8</td>\n",
       "      <td>False</td>\n",
       "      <td>False</td>\n",
       "      <td>False</td>\n",
       "      <td>False</td>\n",
       "      <td>False</td>\n",
       "      <td>False</td>\n",
       "      <td>0</td>\n",
       "    </tr>\n",
       "  </tbody>\n",
       "</table>\n",
       "<p>995 rows × 12 columns</p>\n",
       "</div>"
      ],
      "text/plain": [
       "      Number of Ratings  Longitude   Latitude  meal_delivery  Weighted Rating  \\\n",
       "0                1336.0  46.693985  24.701278              0           4943.2   \n",
       "1                2755.0  46.576437  24.851751              0           9642.5   \n",
       "2                 423.0  46.641709  24.706649              0           1692.0   \n",
       "4                1721.0  46.706125  24.704821              0           6884.0   \n",
       "8                2198.0  46.737091  24.595064              0           8132.6   \n",
       "...                 ...        ...        ...            ...              ...   \n",
       "1610              872.0  46.750084  24.779546              0           3139.2   \n",
       "1612             1081.0  46.797511  24.780961              0           4107.8   \n",
       "1613             1825.0  46.764410  24.732753              0           6387.5   \n",
       "1614             1370.0  46.762265  24.735643              0           5069.0   \n",
       "1615             2246.0  46.664761  24.704578              0           8534.8   \n",
       "\n",
       "      Name_Al Nafoura Restaurant  Name_Dining Hall  Name_Fairmont Riyadh  \\\n",
       "0                          False             False                 False   \n",
       "1                          False             False                 False   \n",
       "2                          False             False                 False   \n",
       "4                          False             False                 False   \n",
       "8                          False             False                 False   \n",
       "...                          ...               ...                   ...   \n",
       "1610                       False             False                 False   \n",
       "1612                       False             False                 False   \n",
       "1613                       False             False                 False   \n",
       "1614                       False             False                 False   \n",
       "1615                       False             False                 False   \n",
       "\n",
       "      Name_Hardee's  neighborhood_حي السليمانية  neighborhood_حي النهضة  \\\n",
       "0             False                       False                   False   \n",
       "1             False                       False                   False   \n",
       "2             False                       False                   False   \n",
       "4             False                       False                   False   \n",
       "8             False                       False                   False   \n",
       "...             ...                         ...                     ...   \n",
       "1610          False                       False                   False   \n",
       "1612          False                       False                   False   \n",
       "1613          False                       False                   False   \n",
       "1614          False                       False                   False   \n",
       "1615          False                       False                   False   \n",
       "\n",
       "      kmeans  \n",
       "0          0  \n",
       "1          0  \n",
       "2          0  \n",
       "4          0  \n",
       "8          0  \n",
       "...      ...  \n",
       "1610       0  \n",
       "1612       0  \n",
       "1613       0  \n",
       "1614       0  \n",
       "1615       0  \n",
       "\n",
       "[995 rows x 12 columns]"
      ]
     },
     "execution_count": 43,
     "metadata": {},
     "output_type": "execute_result"
    }
   ],
   "source": [
    "X[X['kmeans']==0]"
   ]
  },
  {
   "cell_type": "code",
   "execution_count": 44,
   "metadata": {},
   "outputs": [
    {
     "data": {
      "text/plain": [
       "<Axes: xlabel='Weighted Rating', ylabel='neighborhood_حي السليمانية'>"
      ]
     },
     "execution_count": 44,
     "metadata": {},
     "output_type": "execute_result"
    },
    {
     "data": {
      "image/png": "[encoded data removed]",
      "text/plain": [
       "<Figure size 640x480 with 1 Axes>"
      ]
     },
     "metadata": {},
     "output_type": "display_data"
    }
   ],
   "source": [
    "sns.scatterplot(data = X , x = 'Weighted Rating', y = 'neighborhood_حي السليمانية', hue = 'kmeans')"
   ]
  },
  {
   "cell_type": "code",
   "execution_count": 45,
   "metadata": {},
   "outputs": [
    {
     "data": {
      "text/plain": [
       "Index(['Number of Ratings', 'Longitude', 'Latitude', 'meal_delivery',\n",
       "       'Weighted Rating', 'Name_Al Nafoura Restaurant', 'Name_Dining Hall',\n",
       "       'Name_Fairmont Riyadh', 'Name_Hardee's', 'neighborhood_حي السليمانية',\n",
       "       'neighborhood_حي النهضة', 'kmeans'],\n",
       "      dtype='object')"
      ]
     },
     "execution_count": 45,
     "metadata": {},
     "output_type": "execute_result"
    }
   ],
   "source": [
    "X.columns"
   ]
  },
  {
   "cell_type": "code",
   "execution_count": 46,
   "metadata": {},
   "outputs": [
    {
     "data": {
      "text/plain": [
       "<Axes: xlabel='Number of Ratings', ylabel='meal_delivery'>"
      ]
     },
     "execution_count": 46,
     "metadata": {},
     "output_type": "execute_result"
    },
    {
     "data": {
      "image/png": "[encoded data removed]",
      "text/plain": [
       "<Figure size 640x480 with 1 Axes>"
      ]
     },
     "metadata": {},
     "output_type": "display_data"
    }
   ],
   "source": [
    "sns.scatterplot(data = X , x = 'Number of Ratings', y = 'meal_delivery', hue = 'kmeans')"
   ]
  },
  {
   "cell_type": "code",
   "execution_count": 47,
   "metadata": {},
   "outputs": [
    {
     "data": {
      "text/plain": [
       "<Axes: xlabel='Number of Ratings', ylabel='Name_Al Nafoura Restaurant'>"
      ]
     },
     "execution_count": 47,
     "metadata": {},
     "output_type": "execute_result"
    },
    {
     "data": {
      "image/png": "[encoded data removed]",
      "text/plain": [
       "<Figure size 640x480 with 1 Axes>"
      ]
     },
     "metadata": {},
     "output_type": "display_data"
    }
   ],
   "source": [
    "sns.scatterplot(data = X , x = 'Number of Ratings', y = 'Name_Al Nafoura Restaurant', hue = 'kmeans')"
   ]
  },
  {
   "cell_type": "code",
   "execution_count": 48,
   "metadata": {},
   "outputs": [
    {
     "data": {
      "text/plain": [
       "<Axes: xlabel='Weighted Rating', ylabel=\"Name_Hardee's\">"
      ]
     },
     "execution_count": 48,
     "metadata": {},
     "output_type": "execute_result"
    },
    {
     "data": {
      "image/png": "[encoded data removed]",
      "text/plain": [
       "<Figure size 640x480 with 1 Axes>"
      ]
     },
     "metadata": {},
     "output_type": "display_data"
    }
   ],
   "source": [
    "sns.scatterplot(data = X , x = 'Weighted Rating', y = \"Name_Hardee's\", hue = 'kmeans')"
   ]
  },
  {
   "cell_type": "code",
   "execution_count": 49,
   "metadata": {},
   "outputs": [
    {
     "data": {
      "text/plain": [
       "Number of Ratings             float64\n",
       "Longitude                     float64\n",
       "Latitude                      float64\n",
       "meal_delivery                   int64\n",
       "Weighted Rating               float64\n",
       "Name_Al Nafoura Restaurant       bool\n",
       "Name_Dining Hall                 bool\n",
       "Name_Fairmont Riyadh             bool\n",
       "Name_Hardee's                    bool\n",
       "neighborhood_حي السليمانية       bool\n",
       "neighborhood_حي النهضة           bool\n",
       "Rating_category_encoder         int32\n",
       "dtype: object"
      ]
     },
     "execution_count": 49,
     "metadata": {},
     "output_type": "execute_result"
    }
   ],
   "source": [
    "df.dtypes"
   ]
  },
  {
   "cell_type": "code",
   "execution_count": 50,
   "metadata": {},
   "outputs": [
    {
     "data": {
      "text/plain": [
       "['Models/scaler.joblib']"
      ]
     },
     "execution_count": 50,
     "metadata": {},
     "output_type": "execute_result"
    }
   ],
   "source": [
    " \n",
    "import joblib\n",
    "joblib.dump(model, 'Models/K-Means.joblib')\n",
    "joblib.dump(scaler, 'Models/scaler.joblib')"
   ]
  }
 ],
 "metadata": {
  "kernelspec": {
   "display_name": "Python 3",
   "language": "python",
   "name": "python3"
  },
  "language_info": {
   "codemirror_mode": {
    "name": "ipython",
    "version": 3
   },
   "file_extension": ".py",
   "mimetype": "text/x-python",
   "name": "python",
   "nbconvert_exporter": "python",
   "pygments_lexer": "ipython3",
   "version": "3.11.9"
  }
 },
 "nbformat": 4,
 "nbformat_minor": 4
}
